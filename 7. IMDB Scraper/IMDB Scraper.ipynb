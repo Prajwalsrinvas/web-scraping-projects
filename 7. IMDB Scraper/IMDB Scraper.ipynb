{
 "cells": [
  {
   "cell_type": "markdown",
   "metadata": {},
   "source": [
    "## IMDB Scraper using Selenium"
   ]
  },
  {
   "cell_type": "markdown",
   "metadata": {},
   "source": [
    "- import necessary libraries\n",
    "- go to google.com\n",
    "- search for top 100 movies\n",
    "- get the list of details of 100 movies"
   ]
  },
  {
   "cell_type": "code",
   "execution_count": 1,
   "metadata": {},
   "outputs": [
    {
     "name": "stderr",
     "output_type": "stream",
     "text": [
      "[WDM] - Current google-chrome version is 87.0.4280\n",
      "[WDM] - Get LATEST driver version for 87.0.4280\n"
     ]
    },
    {
     "name": "stdout",
     "output_type": "stream",
     "text": [
      " \n"
     ]
    },
    {
     "name": "stderr",
     "output_type": "stream",
     "text": [
      "[WDM] - Driver [C:\\Users\\prajw\\.wdm\\drivers\\chromedriver\\win32\\87.0.4280.88\\chromedriver.exe] found in cache\n"
     ]
    }
   ],
   "source": [
    "from selenium import webdriver\n",
    "from webdriver_manager.chrome import ChromeDriverManager\n",
    "from selenium.webdriver.common.keys import Keys\n",
    "import pandas as pd\n",
    "\n",
    "driver = webdriver.Chrome(ChromeDriverManager().install())\n",
    "\n",
    "driver.get('https://google.com')\n",
    "input_box = driver.find_element_by_xpath('//*[@id=\"tsf\"]/div[2]/div[1]/div[1]/div/div[2]/input')\n",
    "input_box.clear()\n",
    "input_box.send_keys('Top 100 Movies imdb')\n",
    "input_box.send_keys(Keys.ENTER)\n",
    "imdb_link = driver.find_element_by_xpath('//*[@id=\"rso\"]/div[1]/div[1]/div/div[1]/div/div[2]/div/div[1]/a/h3')\n",
    "imdb_link.click()\n",
    "\n",
    "movies_list = driver.find_elements_by_xpath('/html/body/div[3]/div/div[2]/div[3]/div[1]/div/div[4]/div[3]/div')"
   ]
  },
  {
   "cell_type": "markdown",
   "metadata": {},
   "source": [
    "- take a number input from 1-100 (as there are 100 movies)\n",
    "- display the movie name\n",
    "- save the movie details as a screenshot with the name as the movie name"
   ]
  },
  {
   "cell_type": "code",
   "execution_count": 2,
   "metadata": {},
   "outputs": [
    {
     "name": "stdout",
     "output_type": "stream",
     "text": [
      "Which movie in the list do you want?:\n",
      "32\n",
      "Movie is: 32. Interstellar (2014)\n",
      "Saving screenshot with movie details!\n"
     ]
    },
    {
     "data": {
      "text/plain": [
       "True"
      ]
     },
     "execution_count": 2,
     "metadata": {},
     "output_type": "execute_result"
    }
   ],
   "source": [
    "n = int(input(\"Which movie in the list do you want?:\\n\"))\n",
    "movie = movies_list[n-1]\n",
    "movie_name = movie.text.split('\\n')[0].replace(':', '')\n",
    "print(f\"Movie is: {movie_name}\")\n",
    "print(\"Saving screenshot with movie details!\")\n",
    "movie.screenshot(f\"{movie_name}.png\")"
   ]
  },
  {
   "cell_type": "markdown",
   "metadata": {},
   "source": [
    "- create an empty dataframe\n",
    "- iterate over the movies list and add details of each movie to the dataframe\n",
    "- if some detail of the movie is missing, then that movie is not included\n",
    "- even though this part can be done using BeautifulSoup and perhaps might even even be a little faster,I did it using selenium as I was learning selenium\n",
    "- convert dataframe to a csv file"
   ]
  },
  {
   "cell_type": "code",
   "execution_count": 3,
   "metadata": {},
   "outputs": [],
   "source": [
    "df = pd.DataFrame(columns=['Movie name', 'Rating', 'Duration', 'Genre', 'IMDB Rating',\n",
    "                           'Metascore', 'Description', 'Director', 'Stars', 'Votes', 'Gross'])\n",
    "\n",
    "for movie in movies_list:\n",
    "    movie_details = movie.text.split('\\n')\n",
    "    index = len(df)\n",
    "\n",
    "    try:\n",
    "        name = movie_details[0]\n",
    "        rating, duration, genre = list(map(str.strip, movie_details[1].split('|')))\n",
    "        imdb_rating = movie_details[2]\n",
    "        metascore = movie_details[4].split()[0]\n",
    "        description = movie_details[5]\n",
    "        director = movie_details[6].split('|')[0].split(':')[1].strip()\n",
    "        stars = list(map(str.strip, movie_details[6].split('|')[1].split(':')[1:]))\n",
    "        votes = movie_details[7].split('|')[0].split(':')[1].strip()\n",
    "        gross = movie_details[7].split('|')[1].split(':')[1].strip()\n",
    "\n",
    "        df.loc[index] = [name, rating, duration, genre, imdb_rating,\n",
    "                         metascore, description, director, *stars, votes, gross]\n",
    "    except:\n",
    "        pass\n",
    "\n",
    "df.to_csv('Top 100 Movies data.csv', index=False)"
   ]
  },
  {
   "cell_type": "code",
   "execution_count": 4,
   "metadata": {},
   "outputs": [
    {
     "data": {
      "text/html": [
       "<div>\n",
       "<style scoped>\n",
       "    .dataframe tbody tr th:only-of-type {\n",
       "        vertical-align: middle;\n",
       "    }\n",
       "\n",
       "    .dataframe tbody tr th {\n",
       "        vertical-align: top;\n",
       "    }\n",
       "\n",
       "    .dataframe thead th {\n",
       "        text-align: right;\n",
       "    }\n",
       "</style>\n",
       "<table border=\"1\" class=\"dataframe\">\n",
       "  <thead>\n",
       "    <tr style=\"text-align: right;\">\n",
       "      <th></th>\n",
       "      <th>Movie name</th>\n",
       "      <th>Rating</th>\n",
       "      <th>Duration</th>\n",
       "      <th>Genre</th>\n",
       "      <th>IMDB Rating</th>\n",
       "      <th>Metascore</th>\n",
       "      <th>Description</th>\n",
       "      <th>Director</th>\n",
       "      <th>Stars</th>\n",
       "      <th>Votes</th>\n",
       "      <th>Gross</th>\n",
       "    </tr>\n",
       "  </thead>\n",
       "  <tbody>\n",
       "    <tr>\n",
       "      <th>0</th>\n",
       "      <td>1. The Shawshank Redemption (1994)</td>\n",
       "      <td>R</td>\n",
       "      <td>142 min</td>\n",
       "      <td>Drama</td>\n",
       "      <td>9.3</td>\n",
       "      <td>80</td>\n",
       "      <td>Two imprisoned men bond over a number of years...</td>\n",
       "      <td>Frank Darabont</td>\n",
       "      <td>Tim Robbins, Morgan Freeman, Bob Gunton, Willi...</td>\n",
       "      <td>2,319,371</td>\n",
       "      <td>$28.34M</td>\n",
       "    </tr>\n",
       "    <tr>\n",
       "      <th>1</th>\n",
       "      <td>2. The Godfather (1972)</td>\n",
       "      <td>R</td>\n",
       "      <td>175 min</td>\n",
       "      <td>Crime, Drama</td>\n",
       "      <td>9.2</td>\n",
       "      <td>100</td>\n",
       "      <td>The aging patriarch of an organized crime dyna...</td>\n",
       "      <td>Francis Ford Coppola</td>\n",
       "      <td>Marlon Brando, Al Pacino, James Caan, Diane Ke...</td>\n",
       "      <td>1,601,681</td>\n",
       "      <td>$134.97M</td>\n",
       "    </tr>\n",
       "    <tr>\n",
       "      <th>2</th>\n",
       "      <td>3. The Godfather: Part II (1974)</td>\n",
       "      <td>R</td>\n",
       "      <td>202 min</td>\n",
       "      <td>Crime, Drama</td>\n",
       "      <td>9</td>\n",
       "      <td>90</td>\n",
       "      <td>The early life and career of Vito Corleone in ...</td>\n",
       "      <td>Francis Ford Coppola</td>\n",
       "      <td>Al Pacino, Robert De Niro, Robert Duvall, Dian...</td>\n",
       "      <td>1,118,688</td>\n",
       "      <td>$57.30M</td>\n",
       "    </tr>\n",
       "    <tr>\n",
       "      <th>3</th>\n",
       "      <td>4. The Dark Knight (2008)</td>\n",
       "      <td>PG-13</td>\n",
       "      <td>152 min</td>\n",
       "      <td>Action, Crime, Drama</td>\n",
       "      <td>9</td>\n",
       "      <td>84</td>\n",
       "      <td>When the menace known as the Joker wreaks havo...</td>\n",
       "      <td>Christopher Nolan</td>\n",
       "      <td>Christian Bale, Heath Ledger, Aaron Eckhart, M...</td>\n",
       "      <td>2,281,507</td>\n",
       "      <td>$534.86M</td>\n",
       "    </tr>\n",
       "    <tr>\n",
       "      <th>4</th>\n",
       "      <td>5. 12 Angry Men (1957)</td>\n",
       "      <td>Approved</td>\n",
       "      <td>96 min</td>\n",
       "      <td>Crime, Drama</td>\n",
       "      <td>9</td>\n",
       "      <td>96</td>\n",
       "      <td>A jury holdout attempts to prevent a miscarria...</td>\n",
       "      <td>Sidney Lumet</td>\n",
       "      <td>Henry Fonda, Lee J. Cobb, Martin Balsam, John ...</td>\n",
       "      <td>682,526</td>\n",
       "      <td>$4.36M</td>\n",
       "    </tr>\n",
       "  </tbody>\n",
       "</table>\n",
       "</div>"
      ],
      "text/plain": [
       "                           Movie name    Rating Duration  \\\n",
       "0  1. The Shawshank Redemption (1994)         R  142 min   \n",
       "1             2. The Godfather (1972)         R  175 min   \n",
       "2    3. The Godfather: Part II (1974)         R  202 min   \n",
       "3           4. The Dark Knight (2008)     PG-13  152 min   \n",
       "4              5. 12 Angry Men (1957)  Approved   96 min   \n",
       "\n",
       "                  Genre IMDB Rating Metascore  \\\n",
       "0                 Drama         9.3        80   \n",
       "1          Crime, Drama         9.2       100   \n",
       "2          Crime, Drama           9        90   \n",
       "3  Action, Crime, Drama           9        84   \n",
       "4          Crime, Drama           9        96   \n",
       "\n",
       "                                         Description              Director  \\\n",
       "0  Two imprisoned men bond over a number of years...        Frank Darabont   \n",
       "1  The aging patriarch of an organized crime dyna...  Francis Ford Coppola   \n",
       "2  The early life and career of Vito Corleone in ...  Francis Ford Coppola   \n",
       "3  When the menace known as the Joker wreaks havo...     Christopher Nolan   \n",
       "4  A jury holdout attempts to prevent a miscarria...          Sidney Lumet   \n",
       "\n",
       "                                               Stars      Votes     Gross  \n",
       "0  Tim Robbins, Morgan Freeman, Bob Gunton, Willi...  2,319,371   $28.34M  \n",
       "1  Marlon Brando, Al Pacino, James Caan, Diane Ke...  1,601,681  $134.97M  \n",
       "2  Al Pacino, Robert De Niro, Robert Duvall, Dian...  1,118,688   $57.30M  \n",
       "3  Christian Bale, Heath Ledger, Aaron Eckhart, M...  2,281,507  $534.86M  \n",
       "4  Henry Fonda, Lee J. Cobb, Martin Balsam, John ...    682,526    $4.36M  "
      ]
     },
     "execution_count": 4,
     "metadata": {},
     "output_type": "execute_result"
    }
   ],
   "source": [
    "df.head()"
   ]
  },
  {
   "cell_type": "markdown",
   "metadata": {},
   "source": [
    "### Movie data can be used to perform data analysis"
   ]
  },
  {
   "cell_type": "code",
   "execution_count": 5,
   "metadata": {},
   "outputs": [
    {
     "data": {
      "text/plain": [
       "[('Christopher Nolan', 6),\n",
       " ('Stanley Kubrick', 5),\n",
       " ('Quentin Tarantino', 4),\n",
       " ('Alfred Hitchcock', 4),\n",
       " ('Francis Ford Coppola', 3),\n",
       " ('Steven Spielberg', 3)]"
      ]
     },
     "execution_count": 5,
     "metadata": {},
     "output_type": "execute_result"
    }
   ],
   "source": [
    "from collections import Counter\n",
    "Counter(df.Director).most_common()[:6]"
   ]
  },
  {
   "cell_type": "code",
   "execution_count": 6,
   "metadata": {},
   "outputs": [
    {
     "name": "stdout",
     "output_type": "stream",
     "text": [
      "Movies directed by Christopher Nolan\n",
      "3            4. The Dark Knight (2008)\n",
      "13                14. Inception (2010)\n",
      "29             32. Interstellar (2014)\n",
      "44             47. The Prestige (2006)\n",
      "51                  55. Memento (2000)\n",
      "62    70. The Dark Knight Rises (2012)\n",
      "Name: Movie name, dtype: object\n",
      "\n",
      "Movies directed by Stanley Kubrick\n",
      "57                               62. The Shining (1980)\n",
      "59    66. Dr. Strangelove or: How I Learned to Stop ...\n",
      "78                     90. 2001: A Space Odyssey (1968)\n",
      "82                         94. Full Metal Jacket (1987)\n",
      "85                        97. A Clockwork Orange (1971)\n",
      "Name: Movie name, dtype: object\n",
      "\n",
      "Movies directed by Quentin Tarantino\n",
      "7              8. Pulp Fiction (1994)\n",
      "55        60. Django Unchained (2012)\n",
      "73          83. Reservoir Dogs (1992)\n",
      "76    87. Inglourious Basterds (2009)\n",
      "Name: Movie name, dtype: object\n",
      "\n",
      "Movies directed by Alfred Hitchcock\n",
      "38                41. Psycho (1960)\n",
      "47           51. Rear Window (1954)\n",
      "79               91. Vertigo (1958)\n",
      "84    96. North by Northwest (1959)\n",
      "Name: Movie name, dtype: object\n",
      "\n",
      "Movies directed by Francis Ford Coppola\n",
      "1              2. The Godfather (1972)\n",
      "2     3. The Godfather: Part II (1974)\n",
      "52           56. Apocalypse Now (1979)\n",
      "Name: Movie name, dtype: object\n",
      "\n",
      "Movies directed by Steven Spielberg\n",
      "5             6. Schindler's List (1993)\n",
      "25        27. Saving Private Ryan (1998)\n",
      "50    54. Raiders of the Lost Ark (1981)\n",
      "Name: Movie name, dtype: object\n",
      "\n"
     ]
    }
   ],
   "source": [
    "for item in Counter(df.Director).most_common()[:6]:\n",
    "    director = item[0]\n",
    "    print(f\"Movies directed by {director}\")\n",
    "    print(df[df.Director == director]['Movie name'], end='\\n\\n')"
   ]
  },
  {
   "cell_type": "code",
   "execution_count": null,
   "metadata": {},
   "outputs": [],
   "source": []
  }
 ],
 "metadata": {
  "kernelspec": {
   "display_name": "Python 3",
   "language": "python",
   "name": "python3"
  },
  "language_info": {
   "codemirror_mode": {
    "name": "ipython",
    "version": 3
   },
   "file_extension": ".py",
   "mimetype": "text/x-python",
   "name": "python",
   "nbconvert_exporter": "python",
   "pygments_lexer": "ipython3",
   "version": "3.8.5"
  }
 },
 "nbformat": 4,
 "nbformat_minor": 4
}
