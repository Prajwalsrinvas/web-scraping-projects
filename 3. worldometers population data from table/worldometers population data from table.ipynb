{
 "cells": [
  {
   "cell_type": "markdown",
   "metadata": {},
   "source": [
    "## Scraping population data from a table and storing it in a .csv file"
   ]
  },
  {
   "cell_type": "code",
   "execution_count": 61,
   "metadata": {},
   "outputs": [],
   "source": [
    "import requests\n",
    "from bs4 import BeautifulSoup\n",
    "import pandas as pd\n",
    "\n",
    "url = 'https://www.worldometers.info/world-population/'\n",
    "page = requests.get(url)\n",
    "soup = BeautifulSoup(page.text, parser='lxml')\n",
    "\n",
    "# get only table section from the page\n",
    "table = soup.find('table', class_='table table-striped table-bordered table-hover table-condensed table-list')\n",
    "\n",
    "# get column headers\n",
    "column_names = [column_name.text.strip() for column_name in table.find_all('th')]\n",
    "df = pd.DataFrame(columns=column_names)\n",
    "rows = table.find_all('tr')\n",
    "\n",
    "for row in rows[1:]:  # as 0th row is the header row\n",
    "    row_data = row.find_all('td')  # find all table data tags\n",
    "    data = [i.text for i in row_data]  # store data in list\n",
    "    index = len(df)\n",
    "    df.loc[index] = data  # add data to dataframe row by row\n",
    "\n",
    "df.to_csv('population_data.csv', index=False)  # save dataframe as csv file"
   ]
  }
 ],
 "metadata": {
  "kernelspec": {
   "display_name": "Python 3",
   "language": "python",
   "name": "python3"
  },
  "language_info": {
   "codemirror_mode": {
    "name": "ipython",
    "version": 3
   },
   "file_extension": ".py",
   "mimetype": "text/x-python",
   "name": "python",
   "nbconvert_exporter": "python",
   "pygments_lexer": "ipython3",
   "version": "3.8.5"
  }
 },
 "nbformat": 4,
 "nbformat_minor": 4
}
