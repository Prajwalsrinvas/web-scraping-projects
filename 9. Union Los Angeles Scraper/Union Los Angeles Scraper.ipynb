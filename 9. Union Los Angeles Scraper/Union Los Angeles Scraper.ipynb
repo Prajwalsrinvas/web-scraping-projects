{
 "cells": [
  {
   "cell_type": "code",
   "execution_count": 1,
   "metadata": {},
   "outputs": [
    {
     "name": "stderr",
     "output_type": "stream",
     "text": [
      "[WDM] - Current google-chrome version is 87.0.4280\n",
      "[WDM] - Get LATEST driver version for 87.0.4280\n"
     ]
    },
    {
     "name": "stdout",
     "output_type": "stream",
     "text": [
      " \n"
     ]
    },
    {
     "name": "stderr",
     "output_type": "stream",
     "text": [
      "[WDM] - Driver [C:\\Users\\prajw\\.wdm\\drivers\\chromedriver\\win32\\87.0.4280.88\\chromedriver.exe] found in cache\n"
     ]
    }
   ],
   "source": [
    "from selenium import webdriver\n",
    "from webdriver_manager.chrome import ChromeDriverManager\n",
    "from bs4 import BeautifulSoup\n",
    "import pandas as pd\n",
    "import time\n",
    "\n",
    "driver = webdriver.Chrome(ChromeDriverManager().install())"
   ]
  },
  {
   "cell_type": "code",
   "execution_count": 2,
   "metadata": {},
   "outputs": [],
   "source": [
    "url = 'https://store.unionlosangeles.com/collections/outerwear'  # outerwear page in union los angeles page\n",
    "driver.get(url)\n",
    "\n",
    "def infinite_scroll():\n",
    "    # get current height of the page\n",
    "    height = driver.execute_script('return document.body.scrollHeight')\n",
    "    while True:\n",
    "        # scroll to end of the page\n",
    "        driver.execute_script(f'window.scrollTo(0, document.body.scrollHeight)')\n",
    "\n",
    "        # wait for 4 seconds so that the items in the page get loaded\n",
    "        time.sleep(4)\n",
    "\n",
    "        # find out the new height of the page after scrolling\n",
    "        new_height = driver.execute_script('return document.body.scrollHeight')\n",
    "\n",
    "        if new_height == height:  # you have reached the end of the page, so break\n",
    "            break\n",
    "\n",
    "        # you have not yet reached the end of the page, so repeat untill you reach the end of the page\n",
    "        height = new_height\n",
    "\n",
    "# this function can be used anytime a page with infinite scrolling has to be scraped\n",
    "infinite_scroll()"
   ]
  },
  {
   "cell_type": "code",
   "execution_count": 3,
   "metadata": {},
   "outputs": [],
   "source": [
    "soup = BeautifulSoup(driver.page_source, parser='lxml')\n",
    "blocks = soup.find_all('ul',class_='small-block-grid-2 medium-block-grid-4 large-block-grid-6 collection-grid')\n",
    "# 0th block indicates most popular items.They will be repeated in all products.Hence skip to avoid duplicate products\n",
    "df = pd.DataFrame(columns = ['Product Name','Designer Name','Price','Link'])\n",
    "for block in blocks[1:]:\n",
    "    product_blocks = block.find_all('li')\n",
    "    for product in product_blocks:\n",
    "        try:\n",
    "            index = len(df)\n",
    "            product_name = product.find('h3',class_='cap-title').text\n",
    "            designer_name = product.find('h3',class_='cap-vendor').text\n",
    "            price = product.find('h3',class_='cap-price').text\n",
    "            link = 'https://store.unionlosangeles.com' + product.find('a').get('href')\n",
    "            df.loc[index] = [product_name, designer_name, price, link]\n",
    "        except:\n",
    "            pass\n",
    "\n",
    "df.to_csv('union los angeles data.csv', index=False)"
   ]
  },
  {
   "cell_type": "code",
   "execution_count": 4,
   "metadata": {},
   "outputs": [
    {
     "data": {
      "text/plain": [
       "99"
      ]
     },
     "execution_count": 4,
     "metadata": {},
     "output_type": "execute_result"
    }
   ],
   "source": [
    "len(df)"
   ]
  },
  {
   "cell_type": "code",
   "execution_count": 5,
   "metadata": {},
   "outputs": [
    {
     "data": {
      "text/html": [
       "<div>\n",
       "<style scoped>\n",
       "    .dataframe tbody tr th:only-of-type {\n",
       "        vertical-align: middle;\n",
       "    }\n",
       "\n",
       "    .dataframe tbody tr th {\n",
       "        vertical-align: top;\n",
       "    }\n",
       "\n",
       "    .dataframe thead th {\n",
       "        text-align: right;\n",
       "    }\n",
       "</style>\n",
       "<table border=\"1\" class=\"dataframe\">\n",
       "  <thead>\n",
       "    <tr style=\"text-align: right;\">\n",
       "      <th></th>\n",
       "      <th>Product Name</th>\n",
       "      <th>Designer Name</th>\n",
       "      <th>Price</th>\n",
       "      <th>Link</th>\n",
       "    </tr>\n",
       "  </thead>\n",
       "  <tbody>\n",
       "    <tr>\n",
       "      <th>0</th>\n",
       "      <td>Bal E-Coat</td>\n",
       "      <td>Neighborhood</td>\n",
       "      <td>$816</td>\n",
       "      <td>https://store.unionlosangeles.com/products/bal...</td>\n",
       "    </tr>\n",
       "    <tr>\n",
       "      <th>1</th>\n",
       "      <td>Tactical Mod / CN-Jacket</td>\n",
       "      <td>Neighborhood</td>\n",
       "      <td>$954</td>\n",
       "      <td>https://store.unionlosangeles.com/products/tac...</td>\n",
       "    </tr>\n",
       "    <tr>\n",
       "      <th>2</th>\n",
       "      <td>Smock Mod / CE-Jacket</td>\n",
       "      <td>Neighborhood</td>\n",
       "      <td>$858</td>\n",
       "      <td>https://store.unionlosangeles.com/products/smo...</td>\n",
       "    </tr>\n",
       "    <tr>\n",
       "      <th>3</th>\n",
       "      <td>Smock Mod / CE- Jacket</td>\n",
       "      <td>Neighborhood</td>\n",
       "      <td>$858</td>\n",
       "      <td>https://store.unionlosangeles.com/products/smo...</td>\n",
       "    </tr>\n",
       "    <tr>\n",
       "      <th>4</th>\n",
       "      <td>Climax at 29 Western Jacket</td>\n",
       "      <td>ENFANTS RICHES DÉPRIMÉS</td>\n",
       "      <td>$1,950</td>\n",
       "      <td>https://store.unionlosangeles.com/products/cli...</td>\n",
       "    </tr>\n",
       "  </tbody>\n",
       "</table>\n",
       "</div>"
      ],
      "text/plain": [
       "                  Product Name            Designer Name   Price  \\\n",
       "0                   Bal E-Coat             Neighborhood    $816   \n",
       "1     Tactical Mod / CN-Jacket             Neighborhood    $954   \n",
       "2        Smock Mod / CE-Jacket             Neighborhood    $858   \n",
       "3       Smock Mod / CE- Jacket             Neighborhood    $858   \n",
       "4  Climax at 29 Western Jacket  ENFANTS RICHES DÉPRIMÉS  $1,950   \n",
       "\n",
       "                                                Link  \n",
       "0  https://store.unionlosangeles.com/products/bal...  \n",
       "1  https://store.unionlosangeles.com/products/tac...  \n",
       "2  https://store.unionlosangeles.com/products/smo...  \n",
       "3  https://store.unionlosangeles.com/products/smo...  \n",
       "4  https://store.unionlosangeles.com/products/cli...  "
      ]
     },
     "execution_count": 5,
     "metadata": {},
     "output_type": "execute_result"
    }
   ],
   "source": [
    "df.head()"
   ]
  },
  {
   "cell_type": "markdown",
   "metadata": {},
   "source": [
    "- let's find out which product is the most expensive\n",
    "- convert the each price in the price series to an integer after removing '$' and ',' signs\n",
    "- find out the maximum in the series\n",
    "- this represents the maximum price out of all products"
   ]
  },
  {
   "cell_type": "code",
   "execution_count": 6,
   "metadata": {},
   "outputs": [
    {
     "data": {
      "text/plain": [
       "4647"
      ]
     },
     "execution_count": 6,
     "metadata": {},
     "output_type": "execute_result"
    }
   ],
   "source": [
    "df.Price.apply(lambda s:int(s[1:].replace(',',''))).max()"
   ]
  },
  {
   "cell_type": "markdown",
   "metadata": {},
   "source": [
    "- now find out the product that corresponds to the maximum price"
   ]
  },
  {
   "cell_type": "code",
   "execution_count": 7,
   "metadata": {},
   "outputs": [
    {
     "data": {
      "text/html": [
       "<div>\n",
       "<style scoped>\n",
       "    .dataframe tbody tr th:only-of-type {\n",
       "        vertical-align: middle;\n",
       "    }\n",
       "\n",
       "    .dataframe tbody tr th {\n",
       "        vertical-align: top;\n",
       "    }\n",
       "\n",
       "    .dataframe thead th {\n",
       "        text-align: right;\n",
       "    }\n",
       "</style>\n",
       "<table border=\"1\" class=\"dataframe\">\n",
       "  <thead>\n",
       "    <tr style=\"text-align: right;\">\n",
       "      <th></th>\n",
       "      <th>Product Name</th>\n",
       "      <th>Designer Name</th>\n",
       "      <th>Price</th>\n",
       "      <th>Link</th>\n",
       "    </tr>\n",
       "  </thead>\n",
       "  <tbody>\n",
       "    <tr>\n",
       "      <th>98</th>\n",
       "      <td>Varsity SB JKT (Wool)</td>\n",
       "      <td>Visvim</td>\n",
       "      <td>$4,647</td>\n",
       "      <td>https://store.unionlosangeles.com/products/var...</td>\n",
       "    </tr>\n",
       "  </tbody>\n",
       "</table>\n",
       "</div>"
      ],
      "text/plain": [
       "             Product Name Designer Name   Price  \\\n",
       "98  Varsity SB JKT (Wool)        Visvim  $4,647   \n",
       "\n",
       "                                                 Link  \n",
       "98  https://store.unionlosangeles.com/products/var...  "
      ]
     },
     "execution_count": 7,
     "metadata": {},
     "output_type": "execute_result"
    }
   ],
   "source": [
    "df[df.Price == '$4,647']"
   ]
  },
  {
   "cell_type": "code",
   "execution_count": null,
   "metadata": {},
   "outputs": [],
   "source": []
  }
 ],
 "metadata": {
  "kernelspec": {
   "display_name": "Python 3",
   "language": "python",
   "name": "python3"
  },
  "language_info": {
   "codemirror_mode": {
    "name": "ipython",
    "version": 3
   },
   "file_extension": ".py",
   "mimetype": "text/x-python",
   "name": "python",
   "nbconvert_exporter": "python",
   "pygments_lexer": "ipython3",
   "version": "3.8.5"
  }
 },
 "nbformat": 4,
 "nbformat_minor": 4
}
