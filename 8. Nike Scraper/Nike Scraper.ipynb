{
 "cells": [
  {
   "cell_type": "code",
   "execution_count": 1,
   "metadata": {},
   "outputs": [
    {
     "name": "stderr",
     "output_type": "stream",
     "text": [
      "[WDM] - Current google-chrome version is 87.0.4280\n",
      "[WDM] - Get LATEST driver version for 87.0.4280\n",
      "[WDM] - Driver [C:\\Users\\prajw\\.wdm\\drivers\\chromedriver\\win32\\87.0.4280.88\\chromedriver.exe] found in cache\n"
     ]
    },
    {
     "name": "stdout",
     "output_type": "stream",
     "text": [
      " \n"
     ]
    }
   ],
   "source": [
    "from selenium import webdriver\n",
    "from webdriver_manager.chrome import ChromeDriverManager\n",
    "from bs4 import BeautifulSoup\n",
    "import pandas as pd\n",
    "import time\n",
    "\n",
    "driver = webdriver.Chrome(ChromeDriverManager().install())"
   ]
  },
  {
   "cell_type": "code",
   "execution_count": 2,
   "metadata": {},
   "outputs": [],
   "source": [
    "url = 'https://www.nike.com/in/w/sale-3yaep'  # nike sales page\n",
    "driver.get(url)\n",
    "\n",
    "def infinite_scroll():\n",
    "    # get current height of the page\n",
    "    height = driver.execute_script('return document.body.scrollHeight')\n",
    "    while True:\n",
    "        # scroll to end of the page\n",
    "        driver.execute_script(f'window.scrollTo(0, document.body.scrollHeight)')\n",
    "\n",
    "        # wait for 2 seconds so that the items in the page get loaded\n",
    "        time.sleep(2)\n",
    "\n",
    "        # find out the new height of the page after scrolling\n",
    "        new_height = driver.execute_script('return document.body.scrollHeight')\n",
    "\n",
    "        if new_height == height:  # you have reached the end of the page, so break\n",
    "            break\n",
    "\n",
    "        # you have not yet reached the end of the page, so repeat untill you reach the end of the page\n",
    "        height = new_height\n",
    "\n",
    "# this function can be used anytime a page with infinite scrolling has to be scraped\n",
    "infinite_scroll()"
   ]
  },
  {
   "cell_type": "code",
   "execution_count": 3,
   "metadata": {},
   "outputs": [],
   "source": [
    "# now that the page is fully scrolled, scrape all details of all products\n",
    "soup = BeautifulSoup(driver.page_source, parser='lxml')\n",
    "products = soup.find_all('div', class_='product-card__body')\n",
    "\n",
    "df = pd.DataFrame(columns=['Product name', 'Description',\n",
    "                           'Colours', 'Price', 'Sale Price', 'Discount', 'Product Link'])\n",
    "\n",
    "for product in products:\n",
    "    # for some products,some data might be missing,so we skip that product\n",
    "    try:\n",
    "        name = product.find('div', class_='product-card__title').text.strip()\n",
    "        description = product.find('div', class_='product-card__subtitle').text.strip()\n",
    "        colours = product.find('div', class_='product-card__count-item').text.strip()\n",
    "        price = product.find('div', class_='product-price css-1h0t5hy').text.strip()\n",
    "        sale_price = product.find('div', class_='product-price is--current-price css-s56yt7').text.strip()\n",
    "\n",
    "        # now we are going to calculate discount, as it is not specified on the page\n",
    "        # remove '₹' and ',' from price and sales price and convert it to integer data type\n",
    "        temp_price = int(price[1:].replace(',', ''))\n",
    "        temp_sales_price = int(sale_price[1:].replace(',', ''))\n",
    "\n",
    "        # calculate discount,round it up and add a '%' sign at the end\n",
    "        discount = str(round((temp_price - temp_sales_price)/temp_price * 100)) + '%'\n",
    "\n",
    "        link = product.find(\n",
    "            'a', class_='product-card__link-overlay').get('href')\n",
    "\n",
    "        # add all scraped info about one product to the dataframe, and move on to scrape info about the next product\n",
    "        index = len(df)\n",
    "        df.loc[index] = [name, description, colours,\n",
    "                         price, sale_price, discount, link]\n",
    "    except:\n",
    "        pass\n",
    "\n",
    "# store all data in a csv file\n",
    "df.to_csv('nike sale data.csv', index=False)"
   ]
  },
  {
   "cell_type": "code",
   "execution_count": 4,
   "metadata": {},
   "outputs": [
    {
     "data": {
      "text/plain": [
       "313"
      ]
     },
     "execution_count": 4,
     "metadata": {},
     "output_type": "execute_result"
    }
   ],
   "source": [
    "len(df)  # number of product data scraped"
   ]
  },
  {
   "cell_type": "code",
   "execution_count": 5,
   "metadata": {},
   "outputs": [
    {
     "data": {
      "text/html": [
       "<div>\n",
       "<style scoped>\n",
       "    .dataframe tbody tr th:only-of-type {\n",
       "        vertical-align: middle;\n",
       "    }\n",
       "\n",
       "    .dataframe tbody tr th {\n",
       "        vertical-align: top;\n",
       "    }\n",
       "\n",
       "    .dataframe thead th {\n",
       "        text-align: right;\n",
       "    }\n",
       "</style>\n",
       "<table border=\"1\" class=\"dataframe\">\n",
       "  <thead>\n",
       "    <tr style=\"text-align: right;\">\n",
       "      <th></th>\n",
       "      <th>Product name</th>\n",
       "      <th>Description</th>\n",
       "      <th>Colours</th>\n",
       "      <th>Price</th>\n",
       "      <th>Sale Price</th>\n",
       "      <th>Discount</th>\n",
       "      <th>Product Link</th>\n",
       "    </tr>\n",
       "  </thead>\n",
       "  <tbody>\n",
       "    <tr>\n",
       "      <th>0</th>\n",
       "      <td>Nike Downshifter 10</td>\n",
       "      <td>Men's Running Shoe</td>\n",
       "      <td>1 Colour</td>\n",
       "      <td>₹3,995</td>\n",
       "      <td>₹3,597</td>\n",
       "      <td>10%</td>\n",
       "      <td>https://www.nike.com/in/t/downshifter-10-runni...</td>\n",
       "    </tr>\n",
       "    <tr>\n",
       "      <th>1</th>\n",
       "      <td>Nike 50 Tech Fleece</td>\n",
       "      <td>Men's Jacket</td>\n",
       "      <td>1 Colour</td>\n",
       "      <td>₹6,995</td>\n",
       "      <td>₹5,597</td>\n",
       "      <td>20%</td>\n",
       "      <td>https://www.nike.com/in/t/50-tech-fleece-jacke...</td>\n",
       "    </tr>\n",
       "    <tr>\n",
       "      <th>2</th>\n",
       "      <td>NikeCourt Blanc</td>\n",
       "      <td>Women's Shoe</td>\n",
       "      <td>2 Colours</td>\n",
       "      <td>₹5,995</td>\n",
       "      <td>₹4,797</td>\n",
       "      <td>20%</td>\n",
       "      <td>https://www.nike.com/in/t/nikecourt-blanc-shoe...</td>\n",
       "    </tr>\n",
       "    <tr>\n",
       "      <th>3</th>\n",
       "      <td>Jordan Zoom Trunner Ultimate</td>\n",
       "      <td>Running Shoe</td>\n",
       "      <td>1 Colour</td>\n",
       "      <td>₹12,995</td>\n",
       "      <td>₹10,397</td>\n",
       "      <td>20%</td>\n",
       "      <td>https://www.nike.com/in/t/jordan-zoom-trunner-...</td>\n",
       "    </tr>\n",
       "    <tr>\n",
       "      <th>4</th>\n",
       "      <td>Nike Joyride Dual Run</td>\n",
       "      <td>Men's Running Shoe</td>\n",
       "      <td>5 Colours</td>\n",
       "      <td>₹10,995</td>\n",
       "      <td>₹7,697</td>\n",
       "      <td>30%</td>\n",
       "      <td>https://www.nike.com/in/t/joyride-dual-run-run...</td>\n",
       "    </tr>\n",
       "  </tbody>\n",
       "</table>\n",
       "</div>"
      ],
      "text/plain": [
       "                   Product name         Description    Colours    Price  \\\n",
       "0           Nike Downshifter 10  Men's Running Shoe   1 Colour   ₹3,995   \n",
       "1           Nike 50 Tech Fleece        Men's Jacket   1 Colour   ₹6,995   \n",
       "2               NikeCourt Blanc        Women's Shoe  2 Colours   ₹5,995   \n",
       "3  Jordan Zoom Trunner Ultimate        Running Shoe   1 Colour  ₹12,995   \n",
       "4         Nike Joyride Dual Run  Men's Running Shoe  5 Colours  ₹10,995   \n",
       "\n",
       "  Sale Price Discount                                       Product Link  \n",
       "0     ₹3,597      10%  https://www.nike.com/in/t/downshifter-10-runni...  \n",
       "1     ₹5,597      20%  https://www.nike.com/in/t/50-tech-fleece-jacke...  \n",
       "2     ₹4,797      20%  https://www.nike.com/in/t/nikecourt-blanc-shoe...  \n",
       "3    ₹10,397      20%  https://www.nike.com/in/t/jordan-zoom-trunner-...  \n",
       "4     ₹7,697      30%  https://www.nike.com/in/t/joyride-dual-run-run...  "
      ]
     },
     "execution_count": 5,
     "metadata": {},
     "output_type": "execute_result"
    }
   ],
   "source": [
    "df.head()"
   ]
  }
 ],
 "metadata": {
  "kernelspec": {
   "display_name": "Python 3",
   "language": "python",
   "name": "python3"
  },
  "language_info": {
   "codemirror_mode": {
    "name": "ipython",
    "version": 3
   },
   "file_extension": ".py",
   "mimetype": "text/x-python",
   "name": "python",
   "nbconvert_exporter": "python",
   "pygments_lexer": "ipython3",
   "version": "3.8.5"
  }
 },
 "nbformat": 4,
 "nbformat_minor": 4
}
