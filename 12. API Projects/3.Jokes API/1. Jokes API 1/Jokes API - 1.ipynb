{
 "cells": [
  {
   "cell_type": "markdown",
   "metadata": {},
   "source": [
    "# [Jokes API 1](https://v2.jokeapi.dev/)"
   ]
  },
  {
   "cell_type": "code",
   "execution_count": 1,
   "metadata": {},
   "outputs": [],
   "source": [
    "import requests\n",
    "import pandas as pd\n",
    "import glob"
   ]
  },
  {
   "cell_type": "code",
   "execution_count": 2,
   "metadata": {},
   "outputs": [],
   "source": [
    "base_url = 'https://v2.jokeapi.dev/joke'\n",
    "categories = ['Any', 'Misc', 'Programming', 'Pun', 'Spooky', 'Christmas']\n",
    "df = pd.DataFrame()\n",
    "\n",
    "# iterate over all categories\n",
    "for category in categories:\n",
    "    # append '?safe-mode' as we do not want any inappropriate jokes\n",
    "    url = f\"{base_url}/{category}?safe-mode\"\n",
    "    response = requests.get(url, params={'amount': 10}) # get 10 jokes (This is the max amount)\n",
    "    data = response.json()\n",
    "    \n",
    "    # add data to a dataframe as we will export it as a csv\n",
    "    df = df.append(data['jokes'],ignore_index=True)\n",
    "    \n",
    "    # create a file for each joke category\n",
    "    with open(f'{category}_jokes.txt', 'w', encoding='utf-8') as f:\n",
    "        count = 1\n",
    "        for joke in data['jokes']:\n",
    "            f.write(f\"Joke {count}: \")\n",
    "            if joke['type'] == 'single':\n",
    "                f.write(joke['joke']+'\\n')\n",
    "            else:\n",
    "                f.write(f\"Setup: {joke['setup']}\\nDelivery: {joke['delivery']}\\n\")\n",
    "            f.write('\\n')\n",
    "            count += 1\n",
    "\n",
    "df.sort_values('category',inplace=True)\n",
    "df.to_csv('all_jokes.csv',index=False)"
   ]
  },
  {
   "cell_type": "code",
   "execution_count": 3,
   "metadata": {},
   "outputs": [
    {
     "name": "stdout",
     "output_type": "stream",
     "text": [
      "Any_jokes.txt\n",
      "Christmas_jokes.txt\n",
      "Misc_jokes.txt\n",
      "Programming_jokes.txt\n",
      "Pun_jokes.txt\n",
      "Spooky_jokes.txt\n"
     ]
    }
   ],
   "source": [
    "# 6 text files are created, one for each category\n",
    "for file in glob.glob(\"*.txt\"):\n",
    "    print(file)"
   ]
  },
  {
   "cell_type": "code",
   "execution_count": 4,
   "metadata": {},
   "outputs": [
    {
     "data": {
      "text/plain": [
       "51"
      ]
     },
     "execution_count": 4,
     "metadata": {},
     "output_type": "execute_result"
    }
   ],
   "source": [
    "len(df)"
   ]
  },
  {
   "cell_type": "code",
   "execution_count": 5,
   "metadata": {},
   "outputs": [
    {
     "data": {
      "text/html": [
       "<div>\n",
       "<style scoped>\n",
       "    .dataframe tbody tr th:only-of-type {\n",
       "        vertical-align: middle;\n",
       "    }\n",
       "\n",
       "    .dataframe tbody tr th {\n",
       "        vertical-align: top;\n",
       "    }\n",
       "\n",
       "    .dataframe thead th {\n",
       "        text-align: right;\n",
       "    }\n",
       "</style>\n",
       "<table border=\"1\" class=\"dataframe\">\n",
       "  <thead>\n",
       "    <tr style=\"text-align: right;\">\n",
       "      <th></th>\n",
       "      <th>category</th>\n",
       "      <th>type</th>\n",
       "      <th>setup</th>\n",
       "      <th>delivery</th>\n",
       "      <th>flags</th>\n",
       "      <th>id</th>\n",
       "      <th>safe</th>\n",
       "      <th>lang</th>\n",
       "      <th>joke</th>\n",
       "    </tr>\n",
       "  </thead>\n",
       "  <tbody>\n",
       "    <tr>\n",
       "      <th>50</th>\n",
       "      <td>Christmas</td>\n",
       "      <td>twopart</td>\n",
       "      <td>What's Santa's favourite type of music?</td>\n",
       "      <td>Wrap!</td>\n",
       "      <td>{'nsfw': False, 'religious': False, 'political...</td>\n",
       "      <td>247</td>\n",
       "      <td>True</td>\n",
       "      <td>en</td>\n",
       "      <td>NaN</td>\n",
       "    </tr>\n",
       "    <tr>\n",
       "      <th>41</th>\n",
       "      <td>Christmas</td>\n",
       "      <td>twopart</td>\n",
       "      <td>What kind of motorbike does Santa ride?</td>\n",
       "      <td>A Holly Davidson!</td>\n",
       "      <td>{'nsfw': False, 'religious': False, 'political...</td>\n",
       "      <td>244</td>\n",
       "      <td>True</td>\n",
       "      <td>en</td>\n",
       "      <td>NaN</td>\n",
       "    </tr>\n",
       "    <tr>\n",
       "      <th>42</th>\n",
       "      <td>Christmas</td>\n",
       "      <td>twopart</td>\n",
       "      <td>What do elves post on Social Media?</td>\n",
       "      <td>Elf-ies!</td>\n",
       "      <td>{'nsfw': False, 'religious': False, 'political...</td>\n",
       "      <td>249</td>\n",
       "      <td>True</td>\n",
       "      <td>en</td>\n",
       "      <td>NaN</td>\n",
       "    </tr>\n",
       "    <tr>\n",
       "      <th>8</th>\n",
       "      <td>Christmas</td>\n",
       "      <td>twopart</td>\n",
       "      <td>Why does Santa go down the chimney?</td>\n",
       "      <td>Because it soots him!</td>\n",
       "      <td>{'nsfw': False, 'religious': False, 'political...</td>\n",
       "      <td>253</td>\n",
       "      <td>True</td>\n",
       "      <td>en</td>\n",
       "      <td>NaN</td>\n",
       "    </tr>\n",
       "    <tr>\n",
       "      <th>43</th>\n",
       "      <td>Christmas</td>\n",
       "      <td>twopart</td>\n",
       "      <td>Why does Santa go down the chimney?</td>\n",
       "      <td>Because it soots him!</td>\n",
       "      <td>{'nsfw': False, 'religious': False, 'political...</td>\n",
       "      <td>253</td>\n",
       "      <td>True</td>\n",
       "      <td>en</td>\n",
       "      <td>NaN</td>\n",
       "    </tr>\n",
       "  </tbody>\n",
       "</table>\n",
       "</div>"
      ],
      "text/plain": [
       "     category     type                                    setup  \\\n",
       "50  Christmas  twopart  What's Santa's favourite type of music?   \n",
       "41  Christmas  twopart  What kind of motorbike does Santa ride?   \n",
       "42  Christmas  twopart      What do elves post on Social Media?   \n",
       "8   Christmas  twopart      Why does Santa go down the chimney?   \n",
       "43  Christmas  twopart      Why does Santa go down the chimney?   \n",
       "\n",
       "                 delivery                                              flags  \\\n",
       "50                  Wrap!  {'nsfw': False, 'religious': False, 'political...   \n",
       "41      A Holly Davidson!  {'nsfw': False, 'religious': False, 'political...   \n",
       "42               Elf-ies!  {'nsfw': False, 'religious': False, 'political...   \n",
       "8   Because it soots him!  {'nsfw': False, 'religious': False, 'political...   \n",
       "43  Because it soots him!  {'nsfw': False, 'religious': False, 'political...   \n",
       "\n",
       "     id  safe lang joke  \n",
       "50  247  True   en  NaN  \n",
       "41  244  True   en  NaN  \n",
       "42  249  True   en  NaN  \n",
       "8   253  True   en  NaN  \n",
       "43  253  True   en  NaN  "
      ]
     },
     "execution_count": 5,
     "metadata": {},
     "output_type": "execute_result"
    }
   ],
   "source": [
    "df.head()"
   ]
  }
 ],
 "metadata": {
  "kernelspec": {
   "display_name": "Python 3",
   "language": "python",
   "name": "python3"
  },
  "language_info": {
   "codemirror_mode": {
    "name": "ipython",
    "version": 3
   },
   "file_extension": ".py",
   "mimetype": "text/x-python",
   "name": "python",
   "nbconvert_exporter": "python",
   "pygments_lexer": "ipython3",
   "version": "3.8.5"
  }
 },
 "nbformat": 4,
 "nbformat_minor": 4
}
