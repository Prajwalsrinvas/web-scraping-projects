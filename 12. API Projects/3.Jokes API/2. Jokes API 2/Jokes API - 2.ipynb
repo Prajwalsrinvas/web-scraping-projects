{
 "cells": [
  {
   "cell_type": "markdown",
   "metadata": {},
   "source": [
    "# [Jokes API 2](https://github.com/15Dkatz/official_joke_api)"
   ]
  },
  {
   "cell_type": "code",
   "execution_count": 1,
   "metadata": {},
   "outputs": [],
   "source": [
    "import requests\n",
    "import pandas as pd"
   ]
  },
  {
   "cell_type": "markdown",
   "metadata": {},
   "source": [
    "### Random joke"
   ]
  },
  {
   "cell_type": "code",
   "execution_count": 2,
   "metadata": {},
   "outputs": [
    {
     "name": "stdout",
     "output_type": "stream",
     "text": [
      "Keys in response: ['id', 'type', 'setup', 'punchline']\n",
      "\n",
      "Random Joke:\n",
      "id: 255\n",
      "type: general\n",
      "setup: What is a vampire's favorite fruit?\n",
      "punchline: A blood orange.\n"
     ]
    }
   ],
   "source": [
    "# Every time this cell is run, a random joke is shown\n",
    "random_joke_url = 'https://official-joke-api.appspot.com/jokes/random'\n",
    "response = requests.get(random_joke_url)\n",
    "data = response.json()\n",
    "\n",
    "print(f\"Keys in response: {list(data.keys())}\\n\")\n",
    "print(\"Random Joke:\")\n",
    "for k, v in data.items():\n",
    "    print(f\"{k}: {v}\")"
   ]
  },
  {
   "cell_type": "markdown",
   "metadata": {},
   "source": [
    "### Ten Random jokes"
   ]
  },
  {
   "cell_type": "code",
   "execution_count": 3,
   "metadata": {},
   "outputs": [
    {
     "name": "stdout",
     "output_type": "stream",
     "text": [
      "Random Joke 1:\n",
      "id: 247\n",
      "type: general\n",
      "setup: What does a female snake use for support?\n",
      "punchline: A co-Bra!\n",
      "\n",
      "Random Joke 2:\n",
      "id: 36\n",
      "type: general\n",
      "setup: Why did the mushroom get invited to the party?\n",
      "punchline: Because he was a fungi.\n",
      "\n",
      "Random Joke 3:\n",
      "id: 322\n",
      "type: general\n",
      "setup: Why can't your nose be 12 inches long?\n",
      "punchline: Because then it'd be a foot!\n",
      "\n",
      "Random Joke 4:\n",
      "id: 373\n",
      "type: general\n",
      "setup: Why does it take longer to get from 1st to 2nd base, than it does to get from 2nd to 3rd base?\n",
      "punchline: Because there’s a Shortstop in between!\n",
      "\n",
      "Random Joke 5:\n",
      "id: 338\n",
      "type: general\n",
      "setup: Why did the fireman wear red, white, and blue suspenders?\n",
      "punchline: To hold his pants up.\n",
      "\n",
      "Random Joke 6:\n",
      "id: 278\n",
      "type: general\n",
      "setup: What's black and white and read all over?\n",
      "punchline: The newspaper.\n",
      "\n",
      "Random Joke 7:\n",
      "id: 362\n",
      "type: general\n",
      "setup: Why do ducks make great detectives?\n",
      "punchline: They always quack the case.\n",
      "\n",
      "Random Joke 8:\n",
      "id: 339\n",
      "type: general\n",
      "setup: Why did the girl smear peanut butter on the road?\n",
      "punchline: To go with the traffic jam.\n",
      "\n",
      "Random Joke 9:\n",
      "id: 21\n",
      "type: general\n",
      "setup: A termite walks into a bar and says...\n",
      "punchline: 'Where is the bar tended?'\n",
      "\n",
      "Random Joke 10:\n",
      "id: 16\n",
      "type: programming\n",
      "setup: What's the object-oriented way to become wealthy?\n",
      "punchline: Inheritance\n",
      "\n"
     ]
    }
   ],
   "source": [
    "# Every time this cell is run, ten random jokes are shown\n",
    "ten_random_jokes_url = 'https://official-joke-api.appspot.com/jokes/ten'\n",
    "response = requests.get(ten_random_jokes_url)\n",
    "jokes = response.json()\n",
    "\n",
    "for index, joke in enumerate(jokes):\n",
    "    print(f\"Random Joke {index+1}:\")\n",
    "    for k, v in joke.items():\n",
    "        print(f\"{k}: {v}\")\n",
    "    print()"
   ]
  },
  {
   "cell_type": "markdown",
   "metadata": {},
   "source": [
    "# All Jokes\n",
    "\n",
    "Even though the API does not offer this, I found out that the data source of the API is [this JSON file](https://raw.githubusercontent.com/15Dkatz/official_joke_api/master/jokes/index.json)  \n",
    "So by requesting that JSON file, we can get all jokes at once!\n"
   ]
  },
  {
   "cell_type": "code",
   "execution_count": 4,
   "metadata": {},
   "outputs": [
    {
     "name": "stdout",
     "output_type": "stream",
     "text": [
      "Total number of jokes: 378\n"
     ]
    },
    {
     "data": {
      "text/html": [
       "<div>\n",
       "<style scoped>\n",
       "    .dataframe tbody tr th:only-of-type {\n",
       "        vertical-align: middle;\n",
       "    }\n",
       "\n",
       "    .dataframe tbody tr th {\n",
       "        vertical-align: top;\n",
       "    }\n",
       "\n",
       "    .dataframe thead th {\n",
       "        text-align: right;\n",
       "    }\n",
       "</style>\n",
       "<table border=\"1\" class=\"dataframe\">\n",
       "  <thead>\n",
       "    <tr style=\"text-align: right;\">\n",
       "      <th></th>\n",
       "      <th>id</th>\n",
       "      <th>type</th>\n",
       "      <th>setup</th>\n",
       "      <th>punchline</th>\n",
       "    </tr>\n",
       "  </thead>\n",
       "  <tbody>\n",
       "    <tr>\n",
       "      <th>0</th>\n",
       "      <td>1</td>\n",
       "      <td>general</td>\n",
       "      <td>What did the fish say when it hit the wall?</td>\n",
       "      <td>Dam.</td>\n",
       "    </tr>\n",
       "    <tr>\n",
       "      <th>1</th>\n",
       "      <td>2</td>\n",
       "      <td>general</td>\n",
       "      <td>How do you make a tissue dance?</td>\n",
       "      <td>You put a little boogie on it.</td>\n",
       "    </tr>\n",
       "    <tr>\n",
       "      <th>2</th>\n",
       "      <td>3</td>\n",
       "      <td>general</td>\n",
       "      <td>What's Forrest Gump's password?</td>\n",
       "      <td>1Forrest1</td>\n",
       "    </tr>\n",
       "    <tr>\n",
       "      <th>3</th>\n",
       "      <td>4</td>\n",
       "      <td>general</td>\n",
       "      <td>What do you call a belt made out of watches?</td>\n",
       "      <td>A waist of time.</td>\n",
       "    </tr>\n",
       "    <tr>\n",
       "      <th>4</th>\n",
       "      <td>5</td>\n",
       "      <td>general</td>\n",
       "      <td>Why can't bicycles stand on their own?</td>\n",
       "      <td>They are two tired</td>\n",
       "    </tr>\n",
       "    <tr>\n",
       "      <th>5</th>\n",
       "      <td>6</td>\n",
       "      <td>general</td>\n",
       "      <td>How does a train eat?</td>\n",
       "      <td>It goes chew, chew</td>\n",
       "    </tr>\n",
       "    <tr>\n",
       "      <th>6</th>\n",
       "      <td>7</td>\n",
       "      <td>general</td>\n",
       "      <td>What do you call a singing Laptop</td>\n",
       "      <td>A Dell</td>\n",
       "    </tr>\n",
       "    <tr>\n",
       "      <th>7</th>\n",
       "      <td>8</td>\n",
       "      <td>general</td>\n",
       "      <td>How many lips does a flower have?</td>\n",
       "      <td>Tulips</td>\n",
       "    </tr>\n",
       "    <tr>\n",
       "      <th>8</th>\n",
       "      <td>9</td>\n",
       "      <td>general</td>\n",
       "      <td>How do you organize an outer space party?</td>\n",
       "      <td>You planet</td>\n",
       "    </tr>\n",
       "    <tr>\n",
       "      <th>9</th>\n",
       "      <td>10</td>\n",
       "      <td>general</td>\n",
       "      <td>What kind of shoes does a thief wear?</td>\n",
       "      <td>Sneakers</td>\n",
       "    </tr>\n",
       "  </tbody>\n",
       "</table>\n",
       "</div>"
      ],
      "text/plain": [
       "   id     type                                         setup  \\\n",
       "0   1  general   What did the fish say when it hit the wall?   \n",
       "1   2  general               How do you make a tissue dance?   \n",
       "2   3  general               What's Forrest Gump's password?   \n",
       "3   4  general  What do you call a belt made out of watches?   \n",
       "4   5  general        Why can't bicycles stand on their own?   \n",
       "5   6  general                         How does a train eat?   \n",
       "6   7  general             What do you call a singing Laptop   \n",
       "7   8  general             How many lips does a flower have?   \n",
       "8   9  general     How do you organize an outer space party?   \n",
       "9  10  general         What kind of shoes does a thief wear?   \n",
       "\n",
       "                        punchline  \n",
       "0                            Dam.  \n",
       "1  You put a little boogie on it.  \n",
       "2                       1Forrest1  \n",
       "3                A waist of time.  \n",
       "4              They are two tired  \n",
       "5              It goes chew, chew  \n",
       "6                          A Dell  \n",
       "7                          Tulips  \n",
       "8                      You planet  \n",
       "9                        Sneakers  "
      ]
     },
     "execution_count": 4,
     "metadata": {},
     "output_type": "execute_result"
    }
   ],
   "source": [
    "all_jokes_url = 'https://raw.githubusercontent.com/15Dkatz/official_joke_api/master/jokes/index.json'\n",
    "response = requests.get(all_jokes_url)\n",
    "data = response.json()\n",
    "all_jokes_df = pd.DataFrame(data)\n",
    "print(f\"Total number of jokes: {len(all_jokes_df)}\")\n",
    "all_jokes_df.head(10)"
   ]
  },
  {
   "cell_type": "code",
   "execution_count": 5,
   "metadata": {},
   "outputs": [],
   "source": [
    "# export all jokes dataframe as a csv file for any further use\n",
    "all_jokes_df.to_csv('all_jokes.csv', index=False)"
   ]
  }
 ],
 "metadata": {
  "kernelspec": {
   "display_name": "Python 3",
   "language": "python",
   "name": "python3"
  },
  "language_info": {
   "codemirror_mode": {
    "name": "ipython",
    "version": 3
   },
   "file_extension": ".py",
   "mimetype": "text/x-python",
   "name": "python",
   "nbconvert_exporter": "python",
   "pygments_lexer": "ipython3",
   "version": "3.8.5"
  }
 },
 "nbformat": 4,
 "nbformat_minor": 4
}
