{
 "cells": [
  {
   "cell_type": "markdown",
   "metadata": {},
   "source": [
    "# [EDAMAM API](https://developer.edamam.com/)\n",
    "\n",
    "### This [nutrition API](https://developer.edamam.com/edamam-docs-nutrition-api) can be used for:  \n",
    "- Full analysis of food recipes in real time\n",
    "    - Entity extraction, measure and quantity extraction with computation of the applicable nutrition for the recipe and applicable health and diet labels. \n",
    "    - Finally, it adjusts quantity for certain ingredients to account for the cooking process. \n",
    "    - For example, it calculates oil absorption for fried recipes, excludes solids from stock and broth recipes, calculates marinate absorption for marinates and much more.\n",
    "- Extraction of food entities with measures and quantities from unstructured text\n",
    "- Usage in chatbots transcribing natural speech to text.\n",
    "\n",
    "This API is paid and requires registration but it offers a free demo with some limitations."
   ]
  },
  {
   "cell_type": "code",
   "execution_count": 1,
   "metadata": {},
   "outputs": [],
   "source": [
    "import requests\n",
    "import json\n",
    "import pandas as pd\n",
    "\n",
    "# id and key of the API is stored in a separate file for better security\n",
    "from credentials import APP_ID, APP_KEY"
   ]
  },
  {
   "cell_type": "code",
   "execution_count": 2,
   "metadata": {},
   "outputs": [],
   "source": [
    "api_endpoint = 'https://api.edamam.com/api/nutrition-details'\n",
    "\n",
    "# the docs specify that the request must contain the header : Content-Type: application/json\n",
    "headers = {\n",
    "    'Content-type': 'application/json'\n",
    "}\n",
    "\n",
    "# we define the recipe as a dictionary\n",
    "# the key 'title' contains the name of the recipe\n",
    "# the key 'ingr' is a list of ingredients\n",
    "recipe = {\n",
    "    'title': 'Mango milkshake',\n",
    "    'ingr': ['2 mangoes', '1.5 cups milk', '2 tablespoons sugar']\n",
    "}\n",
    "\n",
    "# we submit a POST request to the api endpoint along with:\n",
    "# parameters containing api_id and api_key\n",
    "# headers containing the headers for the request\n",
    "# json containing the recipe dictionary\n",
    "response = requests.post(api_endpoint,\n",
    "                         params={'app_id': APP_ID, 'app_key': APP_KEY},\n",
    "                         headers=headers,\n",
    "                         json=recipe)"
   ]
  },
  {
   "cell_type": "code",
   "execution_count": 3,
   "metadata": {},
   "outputs": [
    {
     "data": {
      "text/plain": [
       "200"
      ]
     },
     "execution_count": 3,
     "metadata": {},
     "output_type": "execute_result"
    }
   ],
   "source": [
    "response.status_code"
   ]
  },
  {
   "cell_type": "code",
   "execution_count": 4,
   "metadata": {},
   "outputs": [
    {
     "data": {
      "text/plain": [
       "['uri',\n",
       " 'yield',\n",
       " 'calories',\n",
       " 'totalWeight',\n",
       " 'dietLabels',\n",
       " 'healthLabels',\n",
       " 'cautions',\n",
       " 'totalNutrients',\n",
       " 'totalDaily',\n",
       " 'ingredients',\n",
       " 'totalNutrientsKCal']"
      ]
     },
     "execution_count": 4,
     "metadata": {},
     "output_type": "execute_result"
    }
   ],
   "source": [
    "data = response.json()\n",
    "list(data.keys())"
   ]
  },
  {
   "cell_type": "code",
   "execution_count": 5,
   "metadata": {},
   "outputs": [
    {
     "data": {
      "text/plain": [
       "'http://www.edamam.com/ontologies/edamam.owl#recipe_7f773c3fe295467bbcccab370ebb4737'"
      ]
     },
     "execution_count": 5,
     "metadata": {},
     "output_type": "execute_result"
    }
   ],
   "source": [
    "# uri of the response containing Ontology identifier\n",
    "data['uri']"
   ]
  },
  {
   "cell_type": "code",
   "execution_count": 6,
   "metadata": {},
   "outputs": [
    {
     "data": {
      "text/plain": [
       "4.0"
      ]
     },
     "execution_count": 6,
     "metadata": {},
     "output_type": "execute_result"
    }
   ],
   "source": [
    "# Number of servings\n",
    "data['yield']"
   ]
  },
  {
   "cell_type": "code",
   "execution_count": 7,
   "metadata": {},
   "outputs": [
    {
     "data": {
      "text/plain": [
       "723"
      ]
     },
     "execution_count": 7,
     "metadata": {},
     "output_type": "execute_result"
    }
   ],
   "source": [
    "# Total energy, kcal\n",
    "data['calories']"
   ]
  },
  {
   "cell_type": "code",
   "execution_count": 8,
   "metadata": {},
   "outputs": [
    {
     "data": {
      "text/plain": [
       "1062.9999999995773"
      ]
     },
     "execution_count": 8,
     "metadata": {},
     "output_type": "execute_result"
    }
   ],
   "source": [
    "# Total weight, g\n",
    "data['totalWeight']"
   ]
  },
  {
   "cell_type": "code",
   "execution_count": 9,
   "metadata": {},
   "outputs": [
    {
     "data": {
      "text/plain": [
       "[]"
      ]
     },
     "execution_count": 9,
     "metadata": {},
     "output_type": "execute_result"
    }
   ],
   "source": [
    "# Diet labels: “balanced”, “high-protein”, “high-fiber”, “low-fat”, “low-carb”, “low-sodium”\n",
    "data['dietLabels']  # this recipe does not have any diet label"
   ]
  },
  {
   "cell_type": "code",
   "execution_count": 10,
   "metadata": {},
   "outputs": [
    {
     "data": {
      "text/plain": [
       "['VEGETARIAN', 'PEANUT_FREE', 'TREE_NUT_FREE', 'ALCOHOL_FREE']"
      ]
     },
     "execution_count": 10,
     "metadata": {},
     "output_type": "execute_result"
    }
   ],
   "source": [
    "# Health labels: “vegan”, “vegetarian”, “dairy-free”, “low-sugar”, “low-fat-abs”, “sugar-conscious”,\n",
    "# “fat free”, “gluten free”, “wheat free”\n",
    "data['healthLabels']"
   ]
  },
  {
   "cell_type": "code",
   "execution_count": 11,
   "metadata": {},
   "outputs": [
    {
     "data": {
      "text/plain": [
       "['SULFITES']"
      ]
     },
     "execution_count": 11,
     "metadata": {},
     "output_type": "execute_result"
    }
   ],
   "source": [
    "# Cautions\n",
    "data['cautions']"
   ]
  },
  {
   "cell_type": "markdown",
   "metadata": {},
   "source": [
    "##### We transpose dataframes that have more columns than rows for better readability"
   ]
  },
  {
   "cell_type": "code",
   "execution_count": 12,
   "metadata": {},
   "outputs": [
    {
     "data": {
      "text/html": [
       "<div>\n",
       "<style scoped>\n",
       "    .dataframe tbody tr th:only-of-type {\n",
       "        vertical-align: middle;\n",
       "    }\n",
       "\n",
       "    .dataframe tbody tr th {\n",
       "        vertical-align: top;\n",
       "    }\n",
       "\n",
       "    .dataframe thead th {\n",
       "        text-align: right;\n",
       "    }\n",
       "</style>\n",
       "<table border=\"1\" class=\"dataframe\">\n",
       "  <thead>\n",
       "    <tr style=\"text-align: right;\">\n",
       "      <th></th>\n",
       "      <th>label</th>\n",
       "      <th>quantity</th>\n",
       "      <th>unit</th>\n",
       "    </tr>\n",
       "  </thead>\n",
       "  <tbody>\n",
       "    <tr>\n",
       "      <th>ENERC_KCAL</th>\n",
       "      <td>Energy</td>\n",
       "      <td>723.21</td>\n",
       "      <td>kcal</td>\n",
       "    </tr>\n",
       "    <tr>\n",
       "      <th>FAT</th>\n",
       "      <td>Fat</td>\n",
       "      <td>14.4486</td>\n",
       "      <td>g</td>\n",
       "    </tr>\n",
       "    <tr>\n",
       "      <th>FASAT</th>\n",
       "      <td>Saturated</td>\n",
       "      <td>7.44414</td>\n",
       "      <td>g</td>\n",
       "    </tr>\n",
       "    <tr>\n",
       "      <th>FAMS</th>\n",
       "      <td>Monounsaturated</td>\n",
       "      <td>3.91272</td>\n",
       "      <td>g</td>\n",
       "    </tr>\n",
       "    <tr>\n",
       "      <th>FAPU</th>\n",
       "      <td>Polyunsaturated</td>\n",
       "      <td>1.19082</td>\n",
       "      <td>g</td>\n",
       "    </tr>\n",
       "    <tr>\n",
       "      <th>CHOCDF</th>\n",
       "      <td>Carbs</td>\n",
       "      <td>143.229</td>\n",
       "      <td>g</td>\n",
       "    </tr>\n",
       "    <tr>\n",
       "      <th>FIBTG</th>\n",
       "      <td>Fiber</td>\n",
       "      <td>10.752</td>\n",
       "      <td>g</td>\n",
       "    </tr>\n",
       "    <tr>\n",
       "      <th>SUGAR</th>\n",
       "      <td>Sugars</td>\n",
       "      <td>135.228</td>\n",
       "      <td>g</td>\n",
       "    </tr>\n",
       "    <tr>\n",
       "      <th>SUGAR.added</th>\n",
       "      <td>Sugars, added</td>\n",
       "      <td>24.95</td>\n",
       "      <td>g</td>\n",
       "    </tr>\n",
       "    <tr>\n",
       "      <th>PROCNT</th>\n",
       "      <td>Protein</td>\n",
       "      <td>17.0394</td>\n",
       "      <td>g</td>\n",
       "    </tr>\n",
       "  </tbody>\n",
       "</table>\n",
       "</div>"
      ],
      "text/plain": [
       "                       label quantity  unit\n",
       "ENERC_KCAL            Energy   723.21  kcal\n",
       "FAT                      Fat  14.4486     g\n",
       "FASAT              Saturated  7.44414     g\n",
       "FAMS         Monounsaturated  3.91272     g\n",
       "FAPU         Polyunsaturated  1.19082     g\n",
       "CHOCDF                 Carbs  143.229     g\n",
       "FIBTG                  Fiber   10.752     g\n",
       "SUGAR                 Sugars  135.228     g\n",
       "SUGAR.added    Sugars, added    24.95     g\n",
       "PROCNT               Protein  17.0394     g"
      ]
     },
     "execution_count": 12,
     "metadata": {},
     "output_type": "execute_result"
    }
   ],
   "source": [
    "# Total Nutrients\n",
    "pd.DataFrame(data['totalNutrients']).transpose().head(10)"
   ]
  },
  {
   "cell_type": "code",
   "execution_count": 13,
   "metadata": {},
   "outputs": [
    {
     "data": {
      "text/html": [
       "<div>\n",
       "<style scoped>\n",
       "    .dataframe tbody tr th:only-of-type {\n",
       "        vertical-align: middle;\n",
       "    }\n",
       "\n",
       "    .dataframe tbody tr th {\n",
       "        vertical-align: top;\n",
       "    }\n",
       "\n",
       "    .dataframe thead th {\n",
       "        text-align: right;\n",
       "    }\n",
       "</style>\n",
       "<table border=\"1\" class=\"dataframe\">\n",
       "  <thead>\n",
       "    <tr style=\"text-align: right;\">\n",
       "      <th></th>\n",
       "      <th>label</th>\n",
       "      <th>quantity</th>\n",
       "      <th>unit</th>\n",
       "    </tr>\n",
       "  </thead>\n",
       "  <tbody>\n",
       "    <tr>\n",
       "      <th>ENERC_KCAL</th>\n",
       "      <td>Energy</td>\n",
       "      <td>36.1605</td>\n",
       "      <td>%</td>\n",
       "    </tr>\n",
       "    <tr>\n",
       "      <th>FAT</th>\n",
       "      <td>Fat</td>\n",
       "      <td>22.2286</td>\n",
       "      <td>%</td>\n",
       "    </tr>\n",
       "    <tr>\n",
       "      <th>FASAT</th>\n",
       "      <td>Saturated</td>\n",
       "      <td>37.2207</td>\n",
       "      <td>%</td>\n",
       "    </tr>\n",
       "    <tr>\n",
       "      <th>CHOCDF</th>\n",
       "      <td>Carbs</td>\n",
       "      <td>47.7429</td>\n",
       "      <td>%</td>\n",
       "    </tr>\n",
       "    <tr>\n",
       "      <th>FIBTG</th>\n",
       "      <td>Fiber</td>\n",
       "      <td>43.008</td>\n",
       "      <td>%</td>\n",
       "    </tr>\n",
       "    <tr>\n",
       "      <th>PROCNT</th>\n",
       "      <td>Protein</td>\n",
       "      <td>34.0788</td>\n",
       "      <td>%</td>\n",
       "    </tr>\n",
       "    <tr>\n",
       "      <th>CHOLE</th>\n",
       "      <td>Cholesterol</td>\n",
       "      <td>12.2</td>\n",
       "      <td>%</td>\n",
       "    </tr>\n",
       "    <tr>\n",
       "      <th>NA</th>\n",
       "      <td>Sodium</td>\n",
       "      <td>6.84792</td>\n",
       "      <td>%</td>\n",
       "    </tr>\n",
       "    <tr>\n",
       "      <th>CA</th>\n",
       "      <td>Calcium</td>\n",
       "      <td>48.775</td>\n",
       "      <td>%</td>\n",
       "    </tr>\n",
       "    <tr>\n",
       "      <th>MG</th>\n",
       "      <td>Magnesium</td>\n",
       "      <td>24.7143</td>\n",
       "      <td>%</td>\n",
       "    </tr>\n",
       "  </tbody>\n",
       "</table>\n",
       "</div>"
      ],
      "text/plain": [
       "                  label quantity unit\n",
       "ENERC_KCAL       Energy  36.1605    %\n",
       "FAT                 Fat  22.2286    %\n",
       "FASAT         Saturated  37.2207    %\n",
       "CHOCDF            Carbs  47.7429    %\n",
       "FIBTG             Fiber   43.008    %\n",
       "PROCNT          Protein  34.0788    %\n",
       "CHOLE       Cholesterol     12.2    %\n",
       "NA               Sodium  6.84792    %\n",
       "CA              Calcium   48.775    %\n",
       "MG            Magnesium  24.7143    %"
      ]
     },
     "execution_count": 13,
     "metadata": {},
     "output_type": "execute_result"
    }
   ],
   "source": [
    "# % daily value\n",
    "pd.DataFrame(data['totalDaily']).transpose().head(10)"
   ]
  },
  {
   "cell_type": "markdown",
   "metadata": {},
   "source": [
    "##### We had provided natural language input during the request. The API uses Natural Language Processing to identify the details of the ingredients."
   ]
  },
  {
   "cell_type": "code",
   "execution_count": 14,
   "metadata": {},
   "outputs": [
    {
     "data": {
      "text/html": [
       "<div>\n",
       "<style scoped>\n",
       "    .dataframe tbody tr th:only-of-type {\n",
       "        vertical-align: middle;\n",
       "    }\n",
       "\n",
       "    .dataframe tbody tr th {\n",
       "        vertical-align: top;\n",
       "    }\n",
       "\n",
       "    .dataframe thead th {\n",
       "        text-align: right;\n",
       "    }\n",
       "</style>\n",
       "<table border=\"1\" class=\"dataframe\">\n",
       "  <thead>\n",
       "    <tr style=\"text-align: right;\">\n",
       "      <th></th>\n",
       "      <th>0</th>\n",
       "    </tr>\n",
       "  </thead>\n",
       "  <tbody>\n",
       "    <tr>\n",
       "      <th>quantity</th>\n",
       "      <td>2</td>\n",
       "    </tr>\n",
       "    <tr>\n",
       "      <th>measure</th>\n",
       "      <td>whole</td>\n",
       "    </tr>\n",
       "    <tr>\n",
       "      <th>foodMatch</th>\n",
       "      <td>mangoes</td>\n",
       "    </tr>\n",
       "    <tr>\n",
       "      <th>food</th>\n",
       "      <td>mangos</td>\n",
       "    </tr>\n",
       "    <tr>\n",
       "      <th>foodId</th>\n",
       "      <td>food_an1dqoib8xj3tyb3pr7c0abi4rbw</td>\n",
       "    </tr>\n",
       "    <tr>\n",
       "      <th>weight</th>\n",
       "      <td>672</td>\n",
       "    </tr>\n",
       "    <tr>\n",
       "      <th>retainedWeight</th>\n",
       "      <td>672</td>\n",
       "    </tr>\n",
       "    <tr>\n",
       "      <th>nutrients</th>\n",
       "      <td>{'VITD': {'label': 'Vitamin D', 'quantity': 0....</td>\n",
       "    </tr>\n",
       "    <tr>\n",
       "      <th>measureURI</th>\n",
       "      <td>http://www.edamam.com/ontologies/edamam.owl#Me...</td>\n",
       "    </tr>\n",
       "    <tr>\n",
       "      <th>status</th>\n",
       "      <td>OK</td>\n",
       "    </tr>\n",
       "  </tbody>\n",
       "</table>\n",
       "</div>"
      ],
      "text/plain": [
       "                                                                0\n",
       "quantity                                                        2\n",
       "measure                                                     whole\n",
       "foodMatch                                                 mangoes\n",
       "food                                                       mangos\n",
       "foodId                          food_an1dqoib8xj3tyb3pr7c0abi4rbw\n",
       "weight                                                        672\n",
       "retainedWeight                                                672\n",
       "nutrients       {'VITD': {'label': 'Vitamin D', 'quantity': 0....\n",
       "measureURI      http://www.edamam.com/ontologies/edamam.owl#Me...\n",
       "status                                                         OK"
      ]
     },
     "execution_count": 14,
     "metadata": {},
     "output_type": "execute_result"
    }
   ],
   "source": [
    "# details of mangoes\n",
    "pd.DataFrame(data['ingredients'][0]['parsed']).transpose()"
   ]
  },
  {
   "cell_type": "code",
   "execution_count": 15,
   "metadata": {},
   "outputs": [
    {
     "data": {
      "text/html": [
       "<div>\n",
       "<style scoped>\n",
       "    .dataframe tbody tr th:only-of-type {\n",
       "        vertical-align: middle;\n",
       "    }\n",
       "\n",
       "    .dataframe tbody tr th {\n",
       "        vertical-align: top;\n",
       "    }\n",
       "\n",
       "    .dataframe thead th {\n",
       "        text-align: right;\n",
       "    }\n",
       "</style>\n",
       "<table border=\"1\" class=\"dataframe\">\n",
       "  <thead>\n",
       "    <tr style=\"text-align: right;\">\n",
       "      <th></th>\n",
       "      <th>0</th>\n",
       "    </tr>\n",
       "  </thead>\n",
       "  <tbody>\n",
       "    <tr>\n",
       "      <th>quantity</th>\n",
       "      <td>1.5</td>\n",
       "    </tr>\n",
       "    <tr>\n",
       "      <th>measure</th>\n",
       "      <td>cup</td>\n",
       "    </tr>\n",
       "    <tr>\n",
       "      <th>foodMatch</th>\n",
       "      <td>milk</td>\n",
       "    </tr>\n",
       "    <tr>\n",
       "      <th>food</th>\n",
       "      <td>whole milk</td>\n",
       "    </tr>\n",
       "    <tr>\n",
       "      <th>foodId</th>\n",
       "      <td>food_b49rs1kaw0jktabzkg2vvanvvsis</td>\n",
       "    </tr>\n",
       "    <tr>\n",
       "      <th>weight</th>\n",
       "      <td>366</td>\n",
       "    </tr>\n",
       "    <tr>\n",
       "      <th>retainedWeight</th>\n",
       "      <td>366</td>\n",
       "    </tr>\n",
       "    <tr>\n",
       "      <th>nutrients</th>\n",
       "      <td>{'VITD': {'label': 'Vitamin D', 'quantity': 18...</td>\n",
       "    </tr>\n",
       "    <tr>\n",
       "      <th>measureURI</th>\n",
       "      <td>http://www.edamam.com/ontologies/edamam.owl#Me...</td>\n",
       "    </tr>\n",
       "    <tr>\n",
       "      <th>status</th>\n",
       "      <td>OK</td>\n",
       "    </tr>\n",
       "  </tbody>\n",
       "</table>\n",
       "</div>"
      ],
      "text/plain": [
       "                                                                0\n",
       "quantity                                                      1.5\n",
       "measure                                                       cup\n",
       "foodMatch                                                    milk\n",
       "food                                                   whole milk\n",
       "foodId                          food_b49rs1kaw0jktabzkg2vvanvvsis\n",
       "weight                                                        366\n",
       "retainedWeight                                                366\n",
       "nutrients       {'VITD': {'label': 'Vitamin D', 'quantity': 18...\n",
       "measureURI      http://www.edamam.com/ontologies/edamam.owl#Me...\n",
       "status                                                         OK"
      ]
     },
     "execution_count": 15,
     "metadata": {},
     "output_type": "execute_result"
    }
   ],
   "source": [
    "# details of milk\n",
    "pd.DataFrame(data['ingredients'][1]['parsed']).transpose()"
   ]
  },
  {
   "cell_type": "code",
   "execution_count": 16,
   "metadata": {},
   "outputs": [
    {
     "data": {
      "text/html": [
       "<div>\n",
       "<style scoped>\n",
       "    .dataframe tbody tr th:only-of-type {\n",
       "        vertical-align: middle;\n",
       "    }\n",
       "\n",
       "    .dataframe tbody tr th {\n",
       "        vertical-align: top;\n",
       "    }\n",
       "\n",
       "    .dataframe thead th {\n",
       "        text-align: right;\n",
       "    }\n",
       "</style>\n",
       "<table border=\"1\" class=\"dataframe\">\n",
       "  <thead>\n",
       "    <tr style=\"text-align: right;\">\n",
       "      <th></th>\n",
       "      <th>0</th>\n",
       "    </tr>\n",
       "  </thead>\n",
       "  <tbody>\n",
       "    <tr>\n",
       "      <th>quantity</th>\n",
       "      <td>2</td>\n",
       "    </tr>\n",
       "    <tr>\n",
       "      <th>measure</th>\n",
       "      <td>tablespoon</td>\n",
       "    </tr>\n",
       "    <tr>\n",
       "      <th>foodMatch</th>\n",
       "      <td>sugar</td>\n",
       "    </tr>\n",
       "    <tr>\n",
       "      <th>food</th>\n",
       "      <td>granulated sugar</td>\n",
       "    </tr>\n",
       "    <tr>\n",
       "      <th>foodId</th>\n",
       "      <td>food_axi2ijobrk819yb0adceobnhm1c2</td>\n",
       "    </tr>\n",
       "    <tr>\n",
       "      <th>weight</th>\n",
       "      <td>25</td>\n",
       "    </tr>\n",
       "    <tr>\n",
       "      <th>retainedWeight</th>\n",
       "      <td>25</td>\n",
       "    </tr>\n",
       "    <tr>\n",
       "      <th>nutrients</th>\n",
       "      <td>{'RIBF': {'label': 'Riboflavin', 'quantity': 0...</td>\n",
       "    </tr>\n",
       "    <tr>\n",
       "      <th>measureURI</th>\n",
       "      <td>http://www.edamam.com/ontologies/edamam.owl#Me...</td>\n",
       "    </tr>\n",
       "    <tr>\n",
       "      <th>status</th>\n",
       "      <td>OK</td>\n",
       "    </tr>\n",
       "  </tbody>\n",
       "</table>\n",
       "</div>"
      ],
      "text/plain": [
       "                                                                0\n",
       "quantity                                                        2\n",
       "measure                                                tablespoon\n",
       "foodMatch                                                   sugar\n",
       "food                                             granulated sugar\n",
       "foodId                          food_axi2ijobrk819yb0adceobnhm1c2\n",
       "weight                                                         25\n",
       "retainedWeight                                                 25\n",
       "nutrients       {'RIBF': {'label': 'Riboflavin', 'quantity': 0...\n",
       "measureURI      http://www.edamam.com/ontologies/edamam.owl#Me...\n",
       "status                                                         OK"
      ]
     },
     "execution_count": 16,
     "metadata": {},
     "output_type": "execute_result"
    }
   ],
   "source": [
    "# details of sugar\n",
    "pd.DataFrame(data['ingredients'][2]['parsed']).transpose()"
   ]
  },
  {
   "cell_type": "code",
   "execution_count": 17,
   "metadata": {},
   "outputs": [
    {
     "data": {
      "text/html": [
       "<div>\n",
       "<style scoped>\n",
       "    .dataframe tbody tr th:only-of-type {\n",
       "        vertical-align: middle;\n",
       "    }\n",
       "\n",
       "    .dataframe tbody tr th {\n",
       "        vertical-align: top;\n",
       "    }\n",
       "\n",
       "    .dataframe thead th {\n",
       "        text-align: right;\n",
       "    }\n",
       "</style>\n",
       "<table border=\"1\" class=\"dataframe\">\n",
       "  <thead>\n",
       "    <tr style=\"text-align: right;\">\n",
       "      <th></th>\n",
       "      <th>label</th>\n",
       "      <th>quantity</th>\n",
       "      <th>unit</th>\n",
       "    </tr>\n",
       "  </thead>\n",
       "  <tbody>\n",
       "    <tr>\n",
       "      <th>ENERC_KCAL</th>\n",
       "      <td>Energy</td>\n",
       "      <td>723</td>\n",
       "      <td>kcal</td>\n",
       "    </tr>\n",
       "    <tr>\n",
       "      <th>PROCNT_KCAL</th>\n",
       "      <td>Calories from protein</td>\n",
       "      <td>64</td>\n",
       "      <td>kcal</td>\n",
       "    </tr>\n",
       "    <tr>\n",
       "      <th>FAT_KCAL</th>\n",
       "      <td>Calories from fat</td>\n",
       "      <td>122</td>\n",
       "      <td>kcal</td>\n",
       "    </tr>\n",
       "    <tr>\n",
       "      <th>CHOCDF_KCAL</th>\n",
       "      <td>Calories from carbohydrates</td>\n",
       "      <td>537</td>\n",
       "      <td>kcal</td>\n",
       "    </tr>\n",
       "  </tbody>\n",
       "</table>\n",
       "</div>"
      ],
      "text/plain": [
       "                                   label quantity  unit\n",
       "ENERC_KCAL                        Energy      723  kcal\n",
       "PROCNT_KCAL        Calories from protein       64  kcal\n",
       "FAT_KCAL               Calories from fat      122  kcal\n",
       "CHOCDF_KCAL  Calories from carbohydrates      537  kcal"
      ]
     },
     "execution_count": 17,
     "metadata": {},
     "output_type": "execute_result"
    }
   ],
   "source": [
    "pd.DataFrame(data['totalNutrientsKCal']).transpose()"
   ]
  },
  {
   "cell_type": "markdown",
   "metadata": {},
   "source": [
    "### Invalid requests"
   ]
  },
  {
   "cell_type": "markdown",
   "metadata": {},
   "source": [
    "#### Not specifying api_id and api_key"
   ]
  },
  {
   "cell_type": "code",
   "execution_count": 18,
   "metadata": {},
   "outputs": [
    {
     "name": "stdout",
     "output_type": "stream",
     "text": [
      "Status code: 401\n"
     ]
    },
    {
     "data": {
      "text/plain": [
       "{'error': 'unauthorized'}"
      ]
     },
     "execution_count": 18,
     "metadata": {},
     "output_type": "execute_result"
    }
   ],
   "source": [
    "# This is an invalid request as we have not specified api_id and api_key which is required during the request\n",
    "\n",
    "response = requests.post(api_endpoint,\n",
    "                         headers=headers,\n",
    "                         json=recipe)\n",
    "print(f\"Status code: {response.status_code}\")\n",
    "response.json()"
   ]
  },
  {
   "cell_type": "markdown",
   "metadata": {},
   "source": [
    "#### Not specifying a required parameter ('ingr')"
   ]
  },
  {
   "cell_type": "code",
   "execution_count": 19,
   "metadata": {},
   "outputs": [],
   "source": [
    "# This is an invalid request as we have not specified any ingredients which is required during the request\n",
    "\n",
    "response = requests.post(api_endpoint,\n",
    "                         params={'app_id': APP_ID, 'app_key': APP_KEY},\n",
    "                         headers=headers,\n",
    "                         json={'title': 'pizza'})"
   ]
  },
  {
   "cell_type": "code",
   "execution_count": 20,
   "metadata": {},
   "outputs": [
    {
     "name": "stdout",
     "output_type": "stream",
     "text": [
      "Status code: 555\n"
     ]
    },
    {
     "data": {
      "text/plain": [
       "{'error': 'low_quality'}"
      ]
     },
     "execution_count": 20,
     "metadata": {},
     "output_type": "execute_result"
    }
   ],
   "source": [
    "# we get a status code of 555\n",
    "# it is not an official http status code but an internal one for this API\n",
    "# the docs describe it as \"Recipe with insufficient quality to process correctly\"\n",
    "print(f\"Status code: {response.status_code}\")\n",
    "response.json()"
   ]
  },
  {
   "cell_type": "code",
   "execution_count": 21,
   "metadata": {},
   "outputs": [],
   "source": [
    "# finally let us export the JSON response into a json file for any further use\n",
    "with open('mango_milkshake_data.json', 'w') as json_file:\n",
    "    json.dump(data, json_file)"
   ]
  }
 ],
 "metadata": {
  "kernelspec": {
   "display_name": "Python 3",
   "language": "python",
   "name": "python3"
  },
  "language_info": {
   "codemirror_mode": {
    "name": "ipython",
    "version": 3
   },
   "file_extension": ".py",
   "mimetype": "text/x-python",
   "name": "python",
   "nbconvert_exporter": "python",
   "pygments_lexer": "ipython3",
   "version": "3.8.5"
  }
 },
 "nbformat": 4,
 "nbformat_minor": 4
}
