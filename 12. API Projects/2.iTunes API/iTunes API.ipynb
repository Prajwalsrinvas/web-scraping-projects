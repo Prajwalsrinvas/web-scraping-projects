{
 "cells": [
  {
   "cell_type": "markdown",
   "metadata": {},
   "source": [
    "# iTunes API"
   ]
  },
  {
   "cell_type": "code",
   "execution_count": 1,
   "metadata": {},
   "outputs": [],
   "source": [
    "import requests\n",
    "import pandas as pd\n",
    "from datetime import datetime"
   ]
  },
  {
   "cell_type": "code",
   "execution_count": 2,
   "metadata": {},
   "outputs": [
    {
     "data": {
      "text/plain": [
       "200"
      ]
     },
     "execution_count": 2,
     "metadata": {},
     "output_type": "execute_result"
    }
   ],
   "source": [
    "base_url = 'https://itunes.apple.com/search'\n",
    "term = 'the beatles'\n",
    "country = 'in'\n",
    "url = f\"{base_url}?term={term}&country={country}\"\n",
    "\n",
    "response = requests.get(url)\n",
    "response.status_code"
   ]
  },
  {
   "cell_type": "markdown",
   "metadata": {},
   "source": [
    "### creating the url manually with all the parameters is time consuming,so we can use the params argument"
   ]
  },
  {
   "cell_type": "code",
   "execution_count": 3,
   "metadata": {},
   "outputs": [
    {
     "data": {
      "text/plain": [
       "200"
      ]
     },
     "execution_count": 3,
     "metadata": {},
     "output_type": "execute_result"
    }
   ],
   "source": [
    "response = requests.get(base_url, params={'term': 'the beatles', 'country': 'in'})\n",
    "response.status_code"
   ]
  },
  {
   "cell_type": "markdown",
   "metadata": {},
   "source": [
    "### exploring the response"
   ]
  },
  {
   "cell_type": "code",
   "execution_count": 4,
   "metadata": {},
   "outputs": [
    {
     "data": {
      "text/plain": [
       "dict_keys(['resultCount', 'results'])"
      ]
     },
     "execution_count": 4,
     "metadata": {},
     "output_type": "execute_result"
    }
   ],
   "source": [
    "data = response.json()\n",
    "data.keys()"
   ]
  },
  {
   "cell_type": "code",
   "execution_count": 5,
   "metadata": {},
   "outputs": [
    {
     "name": "stdout",
     "output_type": "stream",
     "text": [
      "{\n",
      "    \"wrapperType\": \"track\",\n",
      "    \"kind\": \"song\",\n",
      "    \"artistId\": 136975,\n",
      "    \"collectionId\": 1440833098,\n",
      "    \"trackId\": 1440834224,\n",
      "    \"artistName\": \"The Beatles\",\n",
      "    \"collectionName\": \"1 (2015 Version)\",\n",
      "    \"trackName\": \"Hey Jude\",\n",
      "    \"collectionCensoredName\": \"1 (2015 Version)\",\n",
      "    \"trackCensoredName\": \"Hey Jude (2015 Stereo Mix)\",\n",
      "    \"artistViewUrl\": \"https://music.apple.com/in/artist/the-beatles/136975?uo=4\",\n",
      "    \"collectionViewUrl\": \"https://music.apple.com/in/album/hey-jude-2015-stereo-mix/1440833098?i=1440834224&uo=4\",\n",
      "    \"trackViewUrl\": \"https://music.apple.com/in/album/hey-jude-2015-stereo-mix/1440833098?i=1440834224&uo=4\",\n",
      "    \"previewUrl\": \"https://audio-ssl.itunes.apple.com/itunes-assets/AudioPreview128/v4/73/ac/8c/73ac8cf8-56db-34c6-10e6-8ff93f81b3c6/mzaf_7985505075688381983.plus.aac.p.m4a\",\n",
      "    \"artworkUrl30\": \"https://is4-ssl.mzstatic.com/image/thumb/Music118/v4/0e/9b/d1/0e9bd186-2bb4-af3f-f4d0-62feb7a556da/source/30x30bb.jpg\",\n",
      "    \"artworkUrl60\": \"https://is4-ssl.mzstatic.com/image/thumb/Music118/v4/0e/9b/d1/0e9bd186-2bb4-af3f-f4d0-62feb7a556da/source/60x60bb.jpg\",\n",
      "    \"artworkUrl100\": \"https://is4-ssl.mzstatic.com/image/thumb/Music118/v4/0e/9b/d1/0e9bd186-2bb4-af3f-f4d0-62feb7a556da/source/100x100bb.jpg\",\n",
      "    \"collectionPrice\": 150.0,\n",
      "    \"trackPrice\": 18.0,\n",
      "    \"releaseDate\": \"1968-08-26T12:00:00Z\",\n",
      "    \"collectionExplicitness\": \"notExplicit\",\n",
      "    \"trackExplicitness\": \"notExplicit\",\n",
      "    \"discCount\": 1,\n",
      "    \"discNumber\": 1,\n",
      "    \"trackCount\": 27,\n",
      "    \"trackNumber\": 21,\n",
      "    \"trackTimeMillis\": 425653,\n",
      "    \"country\": \"IND\",\n",
      "    \"currency\": \"INR\",\n",
      "    \"primaryGenreName\": \"Rock\",\n",
      "    \"isStreamable\": true\n",
      "}\n"
     ]
    }
   ],
   "source": [
    "print(json.dumps(data['results'][0], indent=4))"
   ]
  },
  {
   "cell_type": "code",
   "execution_count": 6,
   "metadata": {},
   "outputs": [
    {
     "name": "stdout",
     "output_type": "stream",
     "text": [
      "Number of results: 50\n"
     ]
    }
   ],
   "source": [
    "print(f\"Number of results: {data['resultCount']}\")"
   ]
  },
  {
   "cell_type": "markdown",
   "metadata": {},
   "source": [
    "### defining limit parameter during the request "
   ]
  },
  {
   "cell_type": "code",
   "execution_count": 7,
   "metadata": {},
   "outputs": [
    {
     "name": "stdout",
     "output_type": "stream",
     "text": [
      "200\n",
      "Number of results: 100\n"
     ]
    }
   ],
   "source": [
    "response = requests.get(base_url, params={'term': 'the beatles', 'country': 'us', 'limit': 100})\n",
    "print(response.status_code)\n",
    "data = response.json()\n",
    "print(f\"Number of results: {data['resultCount']}\")"
   ]
  },
  {
   "cell_type": "markdown",
   "metadata": {},
   "source": [
    "### invalid requests"
   ]
  },
  {
   "cell_type": "code",
   "execution_count": 8,
   "metadata": {},
   "outputs": [
    {
     "data": {
      "text/plain": [
       "400"
      ]
     },
     "execution_count": 8,
     "metadata": {},
     "output_type": "execute_result"
    }
   ],
   "source": [
    "response = requests.get(base_url, params={'term': 'the beatles', 'country': 'in', 'media': 'hi'})\n",
    "response.status_code"
   ]
  },
  {
   "cell_type": "code",
   "execution_count": 9,
   "metadata": {},
   "outputs": [
    {
     "data": {
      "text/plain": [
       "{'errorMessage': 'Invalid value(s) for key(s): [mediaType]',\n",
       " 'queryParameters': {'output': 'json',\n",
       "  'callback': 'A javascript function to handle your search results',\n",
       "  'country': 'ISO-2A country code',\n",
       "  'limit': 'The number of search results to return',\n",
       "  'term': 'A search string',\n",
       "  'lang': 'ISO-2A language code'}}"
      ]
     },
     "execution_count": 9,
     "metadata": {},
     "output_type": "execute_result"
    }
   ],
   "source": [
    "response.json()"
   ]
  },
  {
   "cell_type": "markdown",
   "metadata": {},
   "source": [
    "### printing track names and release dates"
   ]
  },
  {
   "cell_type": "code",
   "execution_count": 10,
   "metadata": {},
   "outputs": [
    {
     "name": "stdout",
     "output_type": "stream",
     "text": [
      "200\n",
      "Number of results: 10\n"
     ]
    }
   ],
   "source": [
    "response = requests.get(base_url, params={'term': 'ritviz', 'country': 'us', 'limit': 10})\n",
    "print(response.status_code)\n",
    "data = response.json()\n",
    "print(f\"Number of results: {data['resultCount']}\")"
   ]
  },
  {
   "cell_type": "code",
   "execution_count": 11,
   "metadata": {},
   "outputs": [
    {
     "data": {
      "text/html": [
       "<style  type=\"text/css\" >\n",
       "</style><table id=\"T_bc399bec_4ea7_11eb_b470_409f38dccdbe\" ><thead>    <tr>        <th class=\"col_heading level0 col0\" >Track name</th>        <th class=\"col_heading level0 col1\" >Release date</th>    </tr></thead><tbody>\n",
       "                <tr>\n",
       "                                <td id=\"T_bc399bec_4ea7_11eb_b470_409f38dccdberow0_col0\" class=\"data row0 col0\" >Udd Gaye (Bacardi House Party Sessions)</td>\n",
       "                        <td id=\"T_bc399bec_4ea7_11eb_b470_409f38dccdberow0_col1\" class=\"data row0 col1\" >27-11-2017</td>\n",
       "            </tr>\n",
       "            <tr>\n",
       "                                <td id=\"T_bc399bec_4ea7_11eb_b470_409f38dccdberow1_col0\" class=\"data row1 col0\" >Jeet</td>\n",
       "                        <td id=\"T_bc399bec_4ea7_11eb_b470_409f38dccdberow1_col1\" class=\"data row1 col1\" >29-10-2018</td>\n",
       "            </tr>\n",
       "            <tr>\n",
       "                                <td id=\"T_bc399bec_4ea7_11eb_b470_409f38dccdberow2_col0\" class=\"data row2 col0\" >Barso</td>\n",
       "                        <td id=\"T_bc399bec_4ea7_11eb_b470_409f38dccdberow2_col1\" class=\"data row2 col1\" >16-11-2018</td>\n",
       "            </tr>\n",
       "            <tr>\n",
       "                                <td id=\"T_bc399bec_4ea7_11eb_b470_409f38dccdberow3_col0\" class=\"data row3 col0\" >Jeet 2.0</td>\n",
       "                        <td id=\"T_bc399bec_4ea7_11eb_b470_409f38dccdberow3_col1\" class=\"data row3 col1\" >03-04-2019</td>\n",
       "            </tr>\n",
       "            <tr>\n",
       "                                <td id=\"T_bc399bec_4ea7_11eb_b470_409f38dccdberow4_col0\" class=\"data row4 col0\" >Sage</td>\n",
       "                        <td id=\"T_bc399bec_4ea7_11eb_b470_409f38dccdberow4_col1\" class=\"data row4 col1\" >30-06-2019</td>\n",
       "            </tr>\n",
       "            <tr>\n",
       "                                <td id=\"T_bc399bec_4ea7_11eb_b470_409f38dccdberow5_col0\" class=\"data row5 col0\" >Liggi</td>\n",
       "                        <td id=\"T_bc399bec_4ea7_11eb_b470_409f38dccdberow5_col1\" class=\"data row5 col1\" >23-12-2019</td>\n",
       "            </tr>\n",
       "            <tr>\n",
       "                                <td id=\"T_bc399bec_4ea7_11eb_b470_409f38dccdberow6_col0\" class=\"data row6 col0\" >Chalo Chalein (feat. Seedhe Maut)</td>\n",
       "                        <td id=\"T_bc399bec_4ea7_11eb_b470_409f38dccdberow6_col1\" class=\"data row6 col1\" >23-12-2019</td>\n",
       "            </tr>\n",
       "            <tr>\n",
       "                                <td id=\"T_bc399bec_4ea7_11eb_b470_409f38dccdberow7_col0\" class=\"data row7 col0\" >Thandi Hawa</td>\n",
       "                        <td id=\"T_bc399bec_4ea7_11eb_b470_409f38dccdberow7_col1\" class=\"data row7 col1\" >10-04-2020</td>\n",
       "            </tr>\n",
       "            <tr>\n",
       "                                <td id=\"T_bc399bec_4ea7_11eb_b470_409f38dccdberow8_col0\" class=\"data row8 col0\" >Roshni</td>\n",
       "                        <td id=\"T_bc399bec_4ea7_11eb_b470_409f38dccdberow8_col1\" class=\"data row8 col1\" >19-06-2020</td>\n",
       "            </tr>\n",
       "            <tr>\n",
       "                                <td id=\"T_bc399bec_4ea7_11eb_b470_409f38dccdberow9_col0\" class=\"data row9 col0\" >Raahi</td>\n",
       "                        <td id=\"T_bc399bec_4ea7_11eb_b470_409f38dccdberow9_col1\" class=\"data row9 col1\" >31-07-2020</td>\n",
       "            </tr>\n",
       "    </tbody></table>"
      ],
      "text/plain": [
       "<pandas.io.formats.style.Styler at 0x1d363d5d610>"
      ]
     },
     "execution_count": 11,
     "metadata": {},
     "output_type": "execute_result"
    }
   ],
   "source": [
    "df = pd.DataFrame(columns=['Track name', 'Release date'])\n",
    "\n",
    "for result in data['results']:\n",
    "    # get name and date from the json response\n",
    "    name = result['trackName']\n",
    "    \n",
    "    # get only the date from this format '2017-11-27T12:00:00Z'\n",
    "    date = result['releaseDate'].split('T')[0]\n",
    "    \n",
    "    # convert date to a datetime object\n",
    "    date = datetime.strptime(date, '%Y-%m-%d')\n",
    "    \n",
    "    # add name and date as a row to the pandas dataframe\n",
    "    index = len(df)\n",
    "    df.loc[index] = [name, date]\n",
    "    \n",
    "# drop duplicates and sort based on release date\n",
    "df = df.drop_duplicates().sort_values(by='Release date')\n",
    "\n",
    "# format time in dd-mm-yyyy format for easy readability\n",
    "df['Release date'] = df['Release date'].dt.strftime('%d-%m-%Y')\n",
    "\n",
    "# hide index while displaying the dataframe\n",
    "df.style.hide_index()"
   ]
  },
  {
   "cell_type": "markdown",
   "metadata": {},
   "source": [
    "### exporting data "
   ]
  },
  {
   "cell_type": "code",
   "execution_count": 12,
   "metadata": {},
   "outputs": [
    {
     "name": "stdout",
     "output_type": "stream",
     "text": [
      "200\n",
      "Number of results: 50\n"
     ]
    }
   ],
   "source": [
    "response = requests.get(base_url, params={'term': 'Alan Walker', 'country': 'us'})\n",
    "print(response.status_code)\n",
    "data = response.json()\n",
    "print(f\"Number of results: {data['resultCount']}\")"
   ]
  },
  {
   "cell_type": "code",
   "execution_count": 13,
   "metadata": {},
   "outputs": [
    {
     "data": {
      "text/html": [
       "<div>\n",
       "<style scoped>\n",
       "    .dataframe tbody tr th:only-of-type {\n",
       "        vertical-align: middle;\n",
       "    }\n",
       "\n",
       "    .dataframe tbody tr th {\n",
       "        vertical-align: top;\n",
       "    }\n",
       "\n",
       "    .dataframe thead th {\n",
       "        text-align: right;\n",
       "    }\n",
       "</style>\n",
       "<table border=\"1\" class=\"dataframe\">\n",
       "  <thead>\n",
       "    <tr style=\"text-align: right;\">\n",
       "      <th></th>\n",
       "      <th>wrapperType</th>\n",
       "      <th>kind</th>\n",
       "      <th>artistId</th>\n",
       "      <th>collectionId</th>\n",
       "      <th>trackId</th>\n",
       "      <th>artistName</th>\n",
       "      <th>collectionName</th>\n",
       "      <th>trackName</th>\n",
       "      <th>collectionCensoredName</th>\n",
       "      <th>trackCensoredName</th>\n",
       "      <th>...</th>\n",
       "      <th>discNumber</th>\n",
       "      <th>trackCount</th>\n",
       "      <th>trackNumber</th>\n",
       "      <th>trackTimeMillis</th>\n",
       "      <th>country</th>\n",
       "      <th>currency</th>\n",
       "      <th>primaryGenreName</th>\n",
       "      <th>isStreamable</th>\n",
       "      <th>collectionArtistId</th>\n",
       "      <th>collectionArtistName</th>\n",
       "    </tr>\n",
       "  </thead>\n",
       "  <tbody>\n",
       "    <tr>\n",
       "      <th>0</th>\n",
       "      <td>track</td>\n",
       "      <td>song</td>\n",
       "      <td>1062085272</td>\n",
       "      <td>1196294554</td>\n",
       "      <td>1196294581</td>\n",
       "      <td>Alan Walker</td>\n",
       "      <td>Faded - EP</td>\n",
       "      <td>Faded</td>\n",
       "      <td>Faded - EP</td>\n",
       "      <td>Faded</td>\n",
       "      <td>...</td>\n",
       "      <td>1</td>\n",
       "      <td>4</td>\n",
       "      <td>1</td>\n",
       "      <td>212627</td>\n",
       "      <td>USA</td>\n",
       "      <td>USD</td>\n",
       "      <td>Dance</td>\n",
       "      <td>True</td>\n",
       "      <td>NaN</td>\n",
       "      <td>NaN</td>\n",
       "    </tr>\n",
       "    <tr>\n",
       "      <th>1</th>\n",
       "      <td>track</td>\n",
       "      <td>song</td>\n",
       "      <td>1062085272</td>\n",
       "      <td>944459315</td>\n",
       "      <td>944459697</td>\n",
       "      <td>Alan Walker</td>\n",
       "      <td>NCS: Uplifting</td>\n",
       "      <td>Fade</td>\n",
       "      <td>NCS: Uplifting</td>\n",
       "      <td>Fade</td>\n",
       "      <td>...</td>\n",
       "      <td>1</td>\n",
       "      <td>16</td>\n",
       "      <td>7</td>\n",
       "      <td>264014</td>\n",
       "      <td>USA</td>\n",
       "      <td>USD</td>\n",
       "      <td>Dance</td>\n",
       "      <td>True</td>\n",
       "      <td>4035426.0</td>\n",
       "      <td>Various Artists</td>\n",
       "    </tr>\n",
       "    <tr>\n",
       "      <th>2</th>\n",
       "      <td>track</td>\n",
       "      <td>song</td>\n",
       "      <td>1062085272</td>\n",
       "      <td>1300172044</td>\n",
       "      <td>1300172874</td>\n",
       "      <td>Alan Walker, Noah Cyrus &amp; Digital Farm Animals</td>\n",
       "      <td>All Falls Down - Single</td>\n",
       "      <td>All Falls Down</td>\n",
       "      <td>All Falls Down - Single</td>\n",
       "      <td>All Falls Down</td>\n",
       "      <td>...</td>\n",
       "      <td>1</td>\n",
       "      <td>1</td>\n",
       "      <td>1</td>\n",
       "      <td>199111</td>\n",
       "      <td>USA</td>\n",
       "      <td>USD</td>\n",
       "      <td>Dance</td>\n",
       "      <td>True</td>\n",
       "      <td>NaN</td>\n",
       "      <td>NaN</td>\n",
       "    </tr>\n",
       "    <tr>\n",
       "      <th>3</th>\n",
       "      <td>track</td>\n",
       "      <td>song</td>\n",
       "      <td>1062085272</td>\n",
       "      <td>966367678</td>\n",
       "      <td>966367681</td>\n",
       "      <td>Alan Walker</td>\n",
       "      <td>Spectre - Single</td>\n",
       "      <td>Spectre</td>\n",
       "      <td>Spectre - Single</td>\n",
       "      <td>Spectre</td>\n",
       "      <td>...</td>\n",
       "      <td>1</td>\n",
       "      <td>1</td>\n",
       "      <td>1</td>\n",
       "      <td>230635</td>\n",
       "      <td>USA</td>\n",
       "      <td>USD</td>\n",
       "      <td>Dance</td>\n",
       "      <td>True</td>\n",
       "      <td>NaN</td>\n",
       "      <td>NaN</td>\n",
       "    </tr>\n",
       "    <tr>\n",
       "      <th>4</th>\n",
       "      <td>track</td>\n",
       "      <td>song</td>\n",
       "      <td>1062085272</td>\n",
       "      <td>1202263583</td>\n",
       "      <td>1202263655</td>\n",
       "      <td>Alan Walker</td>\n",
       "      <td>Alone - Single</td>\n",
       "      <td>Alone</td>\n",
       "      <td>Alone - Single</td>\n",
       "      <td>Alone</td>\n",
       "      <td>...</td>\n",
       "      <td>1</td>\n",
       "      <td>3</td>\n",
       "      <td>1</td>\n",
       "      <td>161200</td>\n",
       "      <td>USA</td>\n",
       "      <td>USD</td>\n",
       "      <td>Dance</td>\n",
       "      <td>True</td>\n",
       "      <td>NaN</td>\n",
       "      <td>NaN</td>\n",
       "    </tr>\n",
       "  </tbody>\n",
       "</table>\n",
       "<p>5 rows × 33 columns</p>\n",
       "</div>"
      ],
      "text/plain": [
       "  wrapperType  kind    artistId  collectionId     trackId  \\\n",
       "0       track  song  1062085272    1196294554  1196294581   \n",
       "1       track  song  1062085272     944459315   944459697   \n",
       "2       track  song  1062085272    1300172044  1300172874   \n",
       "3       track  song  1062085272     966367678   966367681   \n",
       "4       track  song  1062085272    1202263583  1202263655   \n",
       "\n",
       "                                       artistName           collectionName  \\\n",
       "0                                     Alan Walker               Faded - EP   \n",
       "1                                     Alan Walker           NCS: Uplifting   \n",
       "2  Alan Walker, Noah Cyrus & Digital Farm Animals  All Falls Down - Single   \n",
       "3                                     Alan Walker         Spectre - Single   \n",
       "4                                     Alan Walker           Alone - Single   \n",
       "\n",
       "        trackName   collectionCensoredName trackCensoredName  ... discNumber  \\\n",
       "0           Faded               Faded - EP             Faded  ...          1   \n",
       "1            Fade           NCS: Uplifting              Fade  ...          1   \n",
       "2  All Falls Down  All Falls Down - Single    All Falls Down  ...          1   \n",
       "3         Spectre         Spectre - Single           Spectre  ...          1   \n",
       "4           Alone           Alone - Single             Alone  ...          1   \n",
       "\n",
       "  trackCount trackNumber trackTimeMillis country currency primaryGenreName  \\\n",
       "0          4           1          212627     USA      USD            Dance   \n",
       "1         16           7          264014     USA      USD            Dance   \n",
       "2          1           1          199111     USA      USD            Dance   \n",
       "3          1           1          230635     USA      USD            Dance   \n",
       "4          3           1          161200     USA      USD            Dance   \n",
       "\n",
       "   isStreamable  collectionArtistId collectionArtistName  \n",
       "0          True                 NaN                  NaN  \n",
       "1          True           4035426.0      Various Artists  \n",
       "2          True                 NaN                  NaN  \n",
       "3          True                 NaN                  NaN  \n",
       "4          True                 NaN                  NaN  \n",
       "\n",
       "[5 rows x 33 columns]"
      ]
     },
     "execution_count": 13,
     "metadata": {},
     "output_type": "execute_result"
    }
   ],
   "source": [
    "songs_df = pd.DataFrame(data['results'])\n",
    "songs_df.head()"
   ]
  },
  {
   "cell_type": "code",
   "execution_count": 14,
   "metadata": {},
   "outputs": [],
   "source": [
    "# export the dataframe to a csv file\n",
    "songs_df.to_csv('alan_walker_songs.csv')"
   ]
  },
  {
   "cell_type": "code",
   "execution_count": null,
   "metadata": {},
   "outputs": [],
   "source": []
  }
 ],
 "metadata": {
  "kernelspec": {
   "display_name": "Python 3",
   "language": "python",
   "name": "python3"
  },
  "language_info": {
   "codemirror_mode": {
    "name": "ipython",
    "version": 3
   },
   "file_extension": ".py",
   "mimetype": "text/x-python",
   "name": "python",
   "nbconvert_exporter": "python",
   "pygments_lexer": "ipython3",
   "version": "3.8.5"
  }
 },
 "nbformat": 4,
 "nbformat_minor": 4
}
