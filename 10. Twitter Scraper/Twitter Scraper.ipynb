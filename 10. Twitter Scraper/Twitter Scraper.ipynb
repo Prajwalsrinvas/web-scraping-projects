{
 "cells": [
  {
   "cell_type": "code",
   "execution_count": 1,
   "metadata": {},
   "outputs": [
    {
     "name": "stderr",
     "output_type": "stream",
     "text": [
      "[WDM] - Current google-chrome version is 87.0.4280\n",
      "[WDM] - Get LATEST driver version for 87.0.4280\n"
     ]
    },
    {
     "name": "stdout",
     "output_type": "stream",
     "text": [
      " \n"
     ]
    },
    {
     "name": "stderr",
     "output_type": "stream",
     "text": [
      "[WDM] - Driver [C:\\Users\\prajw\\.wdm\\drivers\\chromedriver\\win32\\87.0.4280.88\\chromedriver.exe] found in cache\n"
     ]
    }
   ],
   "source": [
    "from selenium import webdriver\n",
    "from selenium.webdriver.common.keys import Keys\n",
    "from selenium.webdriver.common.by import By\n",
    "from selenium.webdriver.support import expected_conditions as EC\n",
    "from selenium.webdriver.support.ui import WebDriverWait\n",
    "\n",
    "'''\n",
    "instead of hardcoding the username and password details,I have saved it in a file called credentials.py\n",
    "it can be changed whenever needed and can be safely ignored while pushing to the repository\n",
    "this adds a little bit of safety\n",
    "To add more safety we can use the secrets module,hashing or some kind of encryption\n",
    "'''\n",
    "from credentials import username, password \n",
    "\n",
    "from webdriver_manager.chrome import ChromeDriverManager\n",
    "from bs4 import BeautifulSoup\n",
    "import pandas as pd\n",
    "import time\n",
    "\n",
    "driver = webdriver.Chrome(ChromeDriverManager().install())"
   ]
  },
  {
   "cell_type": "code",
   "execution_count": 3,
   "metadata": {},
   "outputs": [],
   "source": [
    "url = 'https://twitter.com/login'\n",
    "driver.get(url)\n",
    "\n",
    "# find username field and enter username\n",
    "username_field = driver.find_element_by_xpath('//*[@id=\"react-root\"]/div/div/div[2]/main/div/div/div[1]/form/div/div[1]/label/div/div[2]/div/input')\n",
    "username_field.send_keys(username)\n",
    "\n",
    "# find password field and enter password\n",
    "password_field = driver.find_element_by_xpath('//*[@id=\"react-root\"]/div/div/div[2]/main/div/div/div[1]/form/div/div[2]/label/div/div[2]/div/input')\n",
    "password_field.send_keys(password)\n",
    "\n",
    "# find the login button and click it\n",
    "login_button = driver.find_element_by_xpath('//*[@id=\"react-root\"]/div/div/div[2]/main/div/div/div[1]/form/div/div[3]/div')\n",
    "login_button.click()\n",
    "\n",
    "# wait for maximum of 10 seconds until the search field appears or exit from the program\n",
    "WebDriverWait(driver, 10).until(EC.presence_of_element_located((By.XPATH, '//*[@id=\"react-root\"]/div/div/div[2]/main/div/div/div/div[2]/div/div[2]/div/div/div/div[1]/div/div/div/form/div[1]/div/div/div[2]/input')))\n",
    "\n",
    "# find search field, ask the user for celebrity name, send it to the search box and click enter\n",
    "search_field = driver.find_element_by_xpath('//*[@id=\"react-root\"]/div/div/div[2]/main/div/div/div/div[2]/div/div[2]/div/div/div/div[1]/div/div/div/form/div[1]/div/div/div[2]/input')\n",
    "celebrity = input(\"Enter celebrity name:\\n\")\n",
    "search_field.send_keys(celebrity)\n",
    "search_field.send_keys(Keys.ENTER)\n",
    "\n",
    "# switch to the people tab so only twitter profiles are shown\n",
    "people_tab = driver.find_element_by_xpath('//*[@id=\"react-root\"]/div/div/div[2]/main/div/div/div/div[1]/div/div[1]/div[2]/nav/div/div[2]/div/div[3]/a')\n",
    "people_tab.click()\n",
    "\n",
    "# find the first profile and click it\n",
    "profile = driver.find_element_by_xpath('//*[@id=\"react-root\"]/div/div/div[2]/main/div/div/div/div/div/div[2]/div/div/section/div/div/div[1]/div/div/div/div[2]/div[1]')\n",
    "profile.click()"
   ]
  },
  {
   "cell_type": "code",
   "execution_count": 4,
   "metadata": {},
   "outputs": [],
   "source": [
    "df = pd.DataFrame(columns=['Tweet', 'Number of Replies',\n",
    "                           'Number of Retweets', 'Number of Likes', 'Time'])\n",
    "\n",
    "\n",
    "def get_tweet_data_from_current_page():\n",
    "    soup = BeautifulSoup(driver.page_source, parser='lxml')\n",
    "    tweets_data = soup.find_all('div', class_='css-1dbjc4n r-1iusvr4 r-16y2uox r-1777fci r-1mi0q7o')\n",
    "    for tweet_data in tweets_data:\n",
    "        try:\n",
    "            twitter_handle = tweet_data.find('div',class_='css-901oao css-bfa6kz r-111h2gw r-18u37iz r-1qd0xha r-a023e6 r-16dba41 r-ad9z0x r-bcqeeo r-qvutc0').text\n",
    "            if twitter_handle != '@elonmusk':\n",
    "                continue\n",
    "            tweet = tweet_data.find('div', class_='css-901oao r-jwli3a r-1qd0xha r-a023e6 r-16dba41 r-ad9z0x r-bcqeeo r-bnwqim r-qvutc0').text.strip()\n",
    "            replies, retweets, likes = tweet_data.find('div', class_='css-1dbjc4n r-18u37iz r-1wtj0ep r-156q2ks r-1mdbhws').get('aria-label').split(',')\n",
    "            tweet_time = tweet_data.find('time').get('datetime')\n",
    "        except:\n",
    "            pass\n",
    "        index = len(df)\n",
    "        # remove the words retweets,replies and likes and convert string to integers\n",
    "        retweets_num = int(retweets.split()[0])\n",
    "        replies_num = int(replies.split()[0])\n",
    "        likes_num = int(likes.split()[0])\n",
    "        df.loc[index] = [tweet, replies_num, retweets_num, likes_num, tweet_time]"
   ]
  },
  {
   "cell_type": "code",
   "execution_count": 15,
   "metadata": {},
   "outputs": [],
   "source": [
    "height = driver.execute_script('return document.body.scrollHeight')\n",
    "\n",
    "while True:\n",
    "    try:\n",
    "        # scroll to end of the page\n",
    "        driver.execute_script(f'window.scrollTo(0, document.body.scrollHeight)')\n",
    "\n",
    "        # wait for 4 seconds so that the items in the page get loaded\n",
    "        time.sleep(4)\n",
    "\n",
    "        # find out the new height of the page after scrolling\n",
    "        new_height = driver.execute_script('return document.body.scrollHeight')\n",
    "\n",
    "        if new_height == height:  # you have reached the end of the page, so break\n",
    "            break\n",
    "\n",
    "        # you have not yet reached the end of the page, so repeat untill you reach the end of the page\n",
    "        height = new_height\n",
    "        get_tweet_data_from_current_page()  # get tweets visible on the current page\n",
    "    except:\n",
    "        pass"
   ]
  },
  {
   "cell_type": "code",
   "execution_count": 17,
   "metadata": {},
   "outputs": [
    {
     "data": {
      "text/plain": [
       "398"
      ]
     },
     "execution_count": 17,
     "metadata": {},
     "output_type": "execute_result"
    }
   ],
   "source": [
    "len(df)"
   ]
  },
  {
   "cell_type": "code",
   "execution_count": 18,
   "metadata": {},
   "outputs": [
    {
     "data": {
      "text/html": [
       "<div>\n",
       "<style scoped>\n",
       "    .dataframe tbody tr th:only-of-type {\n",
       "        vertical-align: middle;\n",
       "    }\n",
       "\n",
       "    .dataframe tbody tr th {\n",
       "        vertical-align: top;\n",
       "    }\n",
       "\n",
       "    .dataframe thead th {\n",
       "        text-align: right;\n",
       "    }\n",
       "</style>\n",
       "<table border=\"1\" class=\"dataframe\">\n",
       "  <thead>\n",
       "    <tr style=\"text-align: right;\">\n",
       "      <th></th>\n",
       "      <th>Tweet</th>\n",
       "      <th>Number of Replies</th>\n",
       "      <th>Number of Retweets</th>\n",
       "      <th>Number of Likes</th>\n",
       "      <th>Time</th>\n",
       "    </tr>\n",
       "  </thead>\n",
       "  <tbody>\n",
       "    <tr>\n",
       "      <th>0</th>\n",
       "      <td>Star Light, Star Bright</td>\n",
       "      <td>6464</td>\n",
       "      <td>32174</td>\n",
       "      <td>220183</td>\n",
       "      <td>2020-12-17T06:32:13.000Z</td>\n",
       "    </tr>\n",
       "    <tr>\n",
       "      <th>1</th>\n",
       "      <td>Ascent to the Heavens</td>\n",
       "      <td>4494</td>\n",
       "      <td>20862</td>\n",
       "      <td>310358</td>\n",
       "      <td>2020-12-14T16:15:57.000Z</td>\n",
       "    </tr>\n",
       "    <tr>\n",
       "      <th>2</th>\n",
       "      <td>Hehe</td>\n",
       "      <td>8727</td>\n",
       "      <td>32822</td>\n",
       "      <td>356621</td>\n",
       "      <td>2020-12-14T15:12:18.000Z</td>\n",
       "    </tr>\n",
       "    <tr>\n",
       "      <th>3</th>\n",
       "      <td>Hehe</td>\n",
       "      <td>8727</td>\n",
       "      <td>32822</td>\n",
       "      <td>356621</td>\n",
       "      <td>2020-12-14T15:12:18.000Z</td>\n",
       "    </tr>\n",
       "    <tr>\n",
       "      <th>4</th>\n",
       "      <td>Hehe</td>\n",
       "      <td>8727</td>\n",
       "      <td>32822</td>\n",
       "      <td>356621</td>\n",
       "      <td>2020-12-14T15:12:18.000Z</td>\n",
       "    </tr>\n",
       "  </tbody>\n",
       "</table>\n",
       "</div>"
      ],
      "text/plain": [
       "                     Tweet Number of Replies Number of Retweets  \\\n",
       "0  Star Light, Star Bright              6464              32174   \n",
       "1    Ascent to the Heavens              4494              20862   \n",
       "2                     Hehe              8727              32822   \n",
       "3                     Hehe              8727              32822   \n",
       "4                     Hehe              8727              32822   \n",
       "\n",
       "  Number of Likes                      Time  \n",
       "0          220183  2020-12-17T06:32:13.000Z  \n",
       "1          310358  2020-12-14T16:15:57.000Z  \n",
       "2          356621  2020-12-14T15:12:18.000Z  \n",
       "3          356621  2020-12-14T15:12:18.000Z  \n",
       "4          356621  2020-12-14T15:12:18.000Z  "
      ]
     },
     "execution_count": 18,
     "metadata": {},
     "output_type": "execute_result"
    }
   ],
   "source": [
    "df.head()"
   ]
  },
  {
   "cell_type": "code",
   "execution_count": 21,
   "metadata": {},
   "outputs": [],
   "source": [
    "# as you can see from the above dataframe,some tweets are duplicated\n",
    "# so let's remove all the duplicates\n",
    "df.drop_duplicates(inplace = True)"
   ]
  },
  {
   "cell_type": "code",
   "execution_count": 23,
   "metadata": {},
   "outputs": [
    {
     "data": {
      "text/plain": [
       "367"
      ]
     },
     "execution_count": 23,
     "metadata": {},
     "output_type": "execute_result"
    }
   ],
   "source": [
    "len(df)"
   ]
  },
  {
   "cell_type": "code",
   "execution_count": 24,
   "metadata": {},
   "outputs": [
    {
     "data": {
      "text/html": [
       "<div>\n",
       "<style scoped>\n",
       "    .dataframe tbody tr th:only-of-type {\n",
       "        vertical-align: middle;\n",
       "    }\n",
       "\n",
       "    .dataframe tbody tr th {\n",
       "        vertical-align: top;\n",
       "    }\n",
       "\n",
       "    .dataframe thead th {\n",
       "        text-align: right;\n",
       "    }\n",
       "</style>\n",
       "<table border=\"1\" class=\"dataframe\">\n",
       "  <thead>\n",
       "    <tr style=\"text-align: right;\">\n",
       "      <th></th>\n",
       "      <th>Tweet</th>\n",
       "      <th>Number of Replies</th>\n",
       "      <th>Number of Retweets</th>\n",
       "      <th>Number of Likes</th>\n",
       "      <th>Time</th>\n",
       "    </tr>\n",
       "  </thead>\n",
       "  <tbody>\n",
       "    <tr>\n",
       "      <th>0</th>\n",
       "      <td>Star Light, Star Bright</td>\n",
       "      <td>6464</td>\n",
       "      <td>32174</td>\n",
       "      <td>220183</td>\n",
       "      <td>2020-12-17T06:32:13.000Z</td>\n",
       "    </tr>\n",
       "    <tr>\n",
       "      <th>1</th>\n",
       "      <td>Ascent to the Heavens</td>\n",
       "      <td>4494</td>\n",
       "      <td>20862</td>\n",
       "      <td>310358</td>\n",
       "      <td>2020-12-14T16:15:57.000Z</td>\n",
       "    </tr>\n",
       "    <tr>\n",
       "      <th>2</th>\n",
       "      <td>Hehe</td>\n",
       "      <td>8727</td>\n",
       "      <td>32822</td>\n",
       "      <td>356621</td>\n",
       "      <td>2020-12-14T15:12:18.000Z</td>\n",
       "    </tr>\n",
       "    <tr>\n",
       "      <th>5</th>\n",
       "      <td>100</td>\n",
       "      <td>8522</td>\n",
       "      <td>7357</td>\n",
       "      <td>152124</td>\n",
       "      <td>2020-12-07T04:37:42.000Z</td>\n",
       "    </tr>\n",
       "    <tr>\n",
       "      <th>6</th>\n",
       "      <td>Im Gespräch mit Mathias Döpfner</td>\n",
       "      <td>837</td>\n",
       "      <td>645</td>\n",
       "      <td>13530</td>\n",
       "      <td>2020-12-06T21:30:33.000Z</td>\n",
       "    </tr>\n",
       "  </tbody>\n",
       "</table>\n",
       "</div>"
      ],
      "text/plain": [
       "                             Tweet Number of Replies Number of Retweets  \\\n",
       "0          Star Light, Star Bright              6464              32174   \n",
       "1            Ascent to the Heavens              4494              20862   \n",
       "2                             Hehe              8727              32822   \n",
       "5                              100              8522               7357   \n",
       "6  Im Gespräch mit Mathias Döpfner               837                645   \n",
       "\n",
       "  Number of Likes                      Time  \n",
       "0          220183  2020-12-17T06:32:13.000Z  \n",
       "1          310358  2020-12-14T16:15:57.000Z  \n",
       "2          356621  2020-12-14T15:12:18.000Z  \n",
       "5          152124  2020-12-07T04:37:42.000Z  \n",
       "6           13530  2020-12-06T21:30:33.000Z  "
      ]
     },
     "execution_count": 24,
     "metadata": {},
     "output_type": "execute_result"
    }
   ],
   "source": [
    "df.head()"
   ]
  },
  {
   "cell_type": "code",
   "execution_count": 25,
   "metadata": {},
   "outputs": [],
   "source": [
    "# finally let's save the dataframe as a csv file.\n",
    "df.to_csv(\"elon musk's tweets.csv\",index=False)"
   ]
  },
  {
   "cell_type": "code",
   "execution_count": null,
   "metadata": {},
   "outputs": [],
   "source": []
  }
 ],
 "metadata": {
  "kernelspec": {
   "display_name": "Python 3",
   "language": "python",
   "name": "python3"
  },
  "language_info": {
   "codemirror_mode": {
    "name": "ipython",
    "version": 3
   },
   "file_extension": ".py",
   "mimetype": "text/x-python",
   "name": "python",
   "nbconvert_exporter": "python",
   "pygments_lexer": "ipython3",
   "version": "3.8.5"
  }
 },
 "nbformat": 4,
 "nbformat_minor": 4
}
