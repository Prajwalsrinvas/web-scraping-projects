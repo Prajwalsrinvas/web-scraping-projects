{
 "cells": [
  {
   "cell_type": "code",
   "execution_count": 1,
   "metadata": {},
   "outputs": [
    {
     "name": "stderr",
     "output_type": "stream",
     "text": [
      "[WDM] - Current google-chrome version is 87.0.4280\n",
      "[WDM] - Get LATEST driver version for 87.0.4280\n"
     ]
    },
    {
     "name": "stdout",
     "output_type": "stream",
     "text": [
      " \n"
     ]
    },
    {
     "name": "stderr",
     "output_type": "stream",
     "text": [
      "[WDM] - Driver [C:\\Users\\prajw\\.wdm\\drivers\\chromedriver\\win32\\87.0.4280.88\\chromedriver.exe] found in cache\n"
     ]
    }
   ],
   "source": [
    "from selenium import webdriver\n",
    "from selenium.webdriver.common.keys import Keys\n",
    "from webdriver_manager.chrome import ChromeDriverManager\n",
    "from bs4 import BeautifulSoup\n",
    "import pandas as pd\n",
    "import time\n",
    "\n",
    "driver = webdriver.Chrome(ChromeDriverManager().install())"
   ]
  },
  {
   "cell_type": "code",
   "execution_count": 2,
   "metadata": {},
   "outputs": [],
   "source": [
    "url = 'https://in.indeed.com/'\n",
    "driver.get(url)\n",
    "\n",
    "job_input_box = driver.find_element_by_xpath('//*[@id=\"text-input-what\"]')\n",
    "job_input_box.send_keys('Data Scientist') # Job role\n",
    "\n",
    "location_input_box = driver.find_element_by_xpath('//*[@id=\"text-input-where\"]')\n",
    "location_input_box.send_keys('Bangalore') #Job Location\n",
    "\n",
    "location_input_box.send_keys(Keys.ENTER)"
   ]
  },
  {
   "cell_type": "code",
   "execution_count": 3,
   "metadata": {},
   "outputs": [
    {
     "name": "stdout",
     "output_type": "stream",
     "text": [
      "Last page reached\n"
     ]
    }
   ],
   "source": [
    "df = pd.DataFrame(columns=['Job Title', 'Company', 'Location',\n",
    "                           'Salary', 'Requirements', 'Date Posted', 'Remote', 'Link'])\n",
    "\n",
    "def scrape_jobs_from_page():\n",
    "    for job in jobs:\n",
    "        job_title = job.find('a', class_='jobtitle turnstileLink').text.strip()\n",
    "        company = job.find('span', class_='company').text.strip()\n",
    "\n",
    "        # some job locations are in div tag while others are in span but both have the same class,so enclose both tags in a list\n",
    "        job_location = job.find(['span', 'div'], class_='location accessible-contrast-color-location').text\n",
    "\n",
    "        # store salary if specified else store 'N/A'\n",
    "        if job.find('span', class_='salaryText'):\n",
    "            salary = job.find('span', class_='salaryText').text.strip()\n",
    "        else:\n",
    "            salary = 'N/A'\n",
    "\n",
    "        job_requirements = job.find('div', class_='summary').text.strip()\n",
    "        date_posted = job.find('span', class_='date').text.strip()\n",
    "\n",
    "        # store if job is remote if specified else store ' - '\n",
    "        if job.find('span', class_='remote'):\n",
    "            remote = job.find('span', class_='remote').text.strip()\n",
    "        else:\n",
    "            remote = ' - '\n",
    "\n",
    "        job_link = 'https://in.indeed.com' + job.find('a').get('href')\n",
    "\n",
    "        index = len(df)\n",
    "        df.loc[index] = [job_title, company, job_location, salary,\n",
    "                         job_requirements, date_posted, remote, job_link]\n",
    "\n",
    "\n",
    "while True:\n",
    "    soup = BeautifulSoup(driver.page_source, parser='lxml')\n",
    "    jobs = soup.find_all('div', class_='jobsearch-SerpJobCard unifiedRow row result clickcard')\n",
    "    scrape_jobs_from_page()\n",
    "    try:\n",
    "        next_page_link = 'https://in.indeed.com' + soup.find('a', {'aria-label':'Next'}).get('href')\n",
    "    except:\n",
    "        print('Last page reached')\n",
    "        break\n",
    "    driver.get(next_page_link)"
   ]
  },
  {
   "cell_type": "code",
   "execution_count": 4,
   "metadata": {},
   "outputs": [
    {
     "data": {
      "text/plain": [
       "495"
      ]
     },
     "execution_count": 4,
     "metadata": {},
     "output_type": "execute_result"
    }
   ],
   "source": [
    "len(df)"
   ]
  },
  {
   "cell_type": "code",
   "execution_count": 7,
   "metadata": {},
   "outputs": [
    {
     "data": {
      "text/html": [
       "<div>\n",
       "<style scoped>\n",
       "    .dataframe tbody tr th:only-of-type {\n",
       "        vertical-align: middle;\n",
       "    }\n",
       "\n",
       "    .dataframe tbody tr th {\n",
       "        vertical-align: top;\n",
       "    }\n",
       "\n",
       "    .dataframe thead th {\n",
       "        text-align: right;\n",
       "    }\n",
       "</style>\n",
       "<table border=\"1\" class=\"dataframe\">\n",
       "  <thead>\n",
       "    <tr style=\"text-align: right;\">\n",
       "      <th></th>\n",
       "      <th>Job Title</th>\n",
       "      <th>Company</th>\n",
       "      <th>Location</th>\n",
       "      <th>Salary</th>\n",
       "      <th>Requirements</th>\n",
       "      <th>Date Posted</th>\n",
       "      <th>Remote</th>\n",
       "      <th>Link</th>\n",
       "    </tr>\n",
       "  </thead>\n",
       "  <tbody>\n",
       "    <tr>\n",
       "      <th>0</th>\n",
       "      <td>Data Scientist (NLP) for a Product Based Edute...</td>\n",
       "      <td>Shaw Academy</td>\n",
       "      <td>Bengaluru, Karnataka</td>\n",
       "      <td>N/A</td>\n",
       "      <td>Prior experience in working with databases and...</td>\n",
       "      <td>30+ days ago</td>\n",
       "      <td>Temporarily remote</td>\n",
       "      <td>https://in.indeed.com/cmp/Shaw-Academy</td>\n",
       "    </tr>\n",
       "    <tr>\n",
       "      <th>1</th>\n",
       "      <td>Data Scientist</td>\n",
       "      <td>Pion Global Pvt Ltd</td>\n",
       "      <td>Bengaluru, Karnataka</td>\n",
       "      <td>N/A</td>\n",
       "      <td>Machine learning, data science, deep learning....</td>\n",
       "      <td>4 days ago</td>\n",
       "      <td>Temporarily remote</td>\n",
       "      <td>https://in.indeed.com/company/Growth-gamut/job...</td>\n",
       "    </tr>\n",
       "    <tr>\n",
       "      <th>2</th>\n",
       "      <td>Data Scientist</td>\n",
       "      <td>AceNet</td>\n",
       "      <td>Bengaluru, Karnataka</td>\n",
       "      <td>N/A</td>\n",
       "      <td>Joining : Candidates who can join us immediate...</td>\n",
       "      <td>6 days ago</td>\n",
       "      <td>-</td>\n",
       "      <td>https://in.indeed.com/rc/clk?jk=405169173c513d...</td>\n",
       "    </tr>\n",
       "    <tr>\n",
       "      <th>3</th>\n",
       "      <td>Sr. Data Scientist</td>\n",
       "      <td>Qwickbit technologies pvt ltd</td>\n",
       "      <td>Bengaluru, Karnataka</td>\n",
       "      <td>₹12,00,000 - ₹16,00,000 a year</td>\n",
       "      <td>\\* Present information using data visualizatio...</td>\n",
       "      <td>18 days ago</td>\n",
       "      <td>Temporarily remote</td>\n",
       "      <td>https://in.indeed.com/company/Qwickbit-technol...</td>\n",
       "    </tr>\n",
       "    <tr>\n",
       "      <th>4</th>\n",
       "      <td>Data Scientist DA4AD</td>\n",
       "      <td>Mercedes-Benz Research and Development India P...</td>\n",
       "      <td>Bengaluru, Karnataka</td>\n",
       "      <td>N/A</td>\n",
       "      <td>Experience with data visualisation tools like ...</td>\n",
       "      <td>30+ days ago</td>\n",
       "      <td>-</td>\n",
       "      <td>https://in.indeed.com/rc/clk?jk=60d4983b398b7f...</td>\n",
       "    </tr>\n",
       "  </tbody>\n",
       "</table>\n",
       "</div>"
      ],
      "text/plain": [
       "                                           Job Title  \\\n",
       "0  Data Scientist (NLP) for a Product Based Edute...   \n",
       "1                                     Data Scientist   \n",
       "2                                     Data Scientist   \n",
       "3                                 Sr. Data Scientist   \n",
       "4                               Data Scientist DA4AD   \n",
       "\n",
       "                                             Company              Location  \\\n",
       "0                                       Shaw Academy  Bengaluru, Karnataka   \n",
       "1                                Pion Global Pvt Ltd  Bengaluru, Karnataka   \n",
       "2                                             AceNet  Bengaluru, Karnataka   \n",
       "3                      Qwickbit technologies pvt ltd  Bengaluru, Karnataka   \n",
       "4  Mercedes-Benz Research and Development India P...  Bengaluru, Karnataka   \n",
       "\n",
       "                           Salary  \\\n",
       "0                             N/A   \n",
       "1                             N/A   \n",
       "2                             N/A   \n",
       "3  ₹12,00,000 - ₹16,00,000 a year   \n",
       "4                             N/A   \n",
       "\n",
       "                                        Requirements   Date Posted  \\\n",
       "0  Prior experience in working with databases and...  30+ days ago   \n",
       "1  Machine learning, data science, deep learning....    4 days ago   \n",
       "2  Joining : Candidates who can join us immediate...    6 days ago   \n",
       "3  \\* Present information using data visualizatio...   18 days ago   \n",
       "4  Experience with data visualisation tools like ...  30+ days ago   \n",
       "\n",
       "               Remote                                               Link  \n",
       "0  Temporarily remote             https://in.indeed.com/cmp/Shaw-Academy  \n",
       "1  Temporarily remote  https://in.indeed.com/company/Growth-gamut/job...  \n",
       "2                  -   https://in.indeed.com/rc/clk?jk=405169173c513d...  \n",
       "3  Temporarily remote  https://in.indeed.com/company/Qwickbit-technol...  \n",
       "4                  -   https://in.indeed.com/rc/clk?jk=60d4983b398b7f...  "
      ]
     },
     "execution_count": 7,
     "metadata": {},
     "output_type": "execute_result"
    }
   ],
   "source": [
    "df.head()"
   ]
  },
  {
   "cell_type": "code",
   "execution_count": 8,
   "metadata": {},
   "outputs": [],
   "source": [
    "# found 495 'data scientist' jobs in 'Bangalore'\n",
    "# now lets save all data into a csv file\n",
    "df.to_csv('Data Scientist jobs in Bangalore.csv',index=False)"
   ]
  },
  {
   "cell_type": "code",
   "execution_count": null,
   "metadata": {},
   "outputs": [],
   "source": []
  }
 ],
 "metadata": {
  "kernelspec": {
   "display_name": "Python 3",
   "language": "python",
   "name": "python3"
  },
  "language_info": {
   "codemirror_mode": {
    "name": "ipython",
    "version": 3
   },
   "file_extension": ".py",
   "mimetype": "text/x-python",
   "name": "python",
   "nbconvert_exporter": "python",
   "pygments_lexer": "ipython3",
   "version": "3.8.5"
  }
 },
 "nbformat": 4,
 "nbformat_minor": 4
}
