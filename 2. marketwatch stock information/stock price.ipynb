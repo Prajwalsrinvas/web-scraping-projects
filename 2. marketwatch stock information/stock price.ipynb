{
 "cells": [
  {
   "cell_type": "code",
   "execution_count": 68,
   "metadata": {},
   "outputs": [
    {
     "name": "stdout",
     "output_type": "stream",
     "text": [
      "Enter stock ticker:\n",
      "fb\n",
      "\n",
      "Stock details of FB:\n",
      "Stock price: $272.80\n",
      "Closing price: $273.55 \n",
      "52 week range: $137.10 , $304.67\n",
      "Analyst rating: Buy\n",
      "\n"
     ]
    }
   ],
   "source": [
    "import requests\n",
    "from bs4 import BeautifulSoup\n",
    "\n",
    "ticker = input(\"Enter stock ticker:\\n\")\n",
    "url = f'https://www.marketwatch.com/investing/stock/{ticker}'\n",
    "\n",
    "page = requests.get(url)\n",
    "soup = BeautifulSoup(page.text, parser='lxml')\n",
    "\n",
    "stock_price = f\"${soup.find('bg-quote', class_='value').text}\"\n",
    "closing_price = f\"{soup.find('td', class_='table__cell u-semi').text}\"\n",
    "range_52_weeks = f\"${soup.find_all('div', class_='range__header')[-1].text.split()[0]}\",\\\n",
    "                f\"${soup.find_all('div', class_='range__header')[-1].text.split()[-1]}\"\n",
    "analyst_rating = soup.find('li',class_='analyst__option active').text\n",
    "\n",
    "print(f\"\"\"\\nStock details of {ticker.upper()}:\n",
    "Stock price: {stock_price}\n",
    "Closing price: {closing_price}\n",
    "52 week range: {range_52_weeks[0]} , {range_52_weeks[1]}\n",
    "Analyst rating: {analyst_rating}\n",
    "\"\"\")"
   ]
  }
 ],
 "metadata": {
  "kernelspec": {
   "display_name": "Python 3",
   "language": "python",
   "name": "python3"
  },
  "language_info": {
   "codemirror_mode": {
    "name": "ipython",
    "version": 3
   },
   "file_extension": ".py",
   "mimetype": "text/x-python",
   "name": "python",
   "nbconvert_exporter": "python",
   "pygments_lexer": "ipython3",
   "version": "3.8.5"
  }
 },
 "nbformat": 4,
 "nbformat_minor": 4
}
